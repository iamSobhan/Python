{
  "nbformat": 4,
  "nbformat_minor": 0,
  "metadata": {
    "colab": {
      "provenance": [],
      "gpuType": "T4"
    },
    "kernelspec": {
      "name": "python3",
      "display_name": "Python 3"
    },
    "language_info": {
      "name": "python"
    },
    "accelerator": "GPU"
  },
  "cells": [
    {
      "cell_type": "markdown",
      "source": [
        "**1. Pyramid Pattern**"
      ],
      "metadata": {
        "id": "ch_G0AMbG2to"
      }
    },
    {
      "cell_type": "code",
      "execution_count": 1,
      "metadata": {
        "colab": {
          "base_uri": "https://localhost:8080/"
        },
        "id": "Ow5yEDM1Gth2",
        "outputId": "e810500e-b8a9-499c-d231-795c3af86cbb"
      },
      "outputs": [
        {
          "output_type": "stream",
          "name": "stdout",
          "text": [
            "    *\n",
            "   ***\n",
            "  *****\n",
            " *******\n",
            "*********\n"
          ]
        }
      ],
      "source": [
        "def pyramid_pattern(rows):\n",
        "    for i in range(1, rows + 1):\n",
        "        print(\" \" * (rows - i) + \"*\" * (2 * i - 1))\n",
        "\n",
        "pyramid_pattern(5)"
      ]
    },
    {
      "cell_type": "markdown",
      "source": [
        "**2. Inverted Pyramid Pattern**"
      ],
      "metadata": {
        "id": "Z1EcSDVTHsZM"
      }
    },
    {
      "cell_type": "code",
      "source": [
        "def inverted_pyramid(rows):\n",
        "    for i in range(rows, 0, -1):\n",
        "        print(\" \" * (rows - i) + \"*\" * (2 * i - 1))\n",
        "\n",
        "inverted_pyramid(5)"
      ],
      "metadata": {
        "colab": {
          "base_uri": "https://localhost:8080/"
        },
        "id": "iZ1pSpyTHZwa",
        "outputId": "0aa02774-b8f5-47d9-81c7-0d3eb4189dd9"
      },
      "execution_count": 2,
      "outputs": [
        {
          "output_type": "stream",
          "name": "stdout",
          "text": [
            "*********\n",
            " *******\n",
            "  *****\n",
            "   ***\n",
            "    *\n"
          ]
        }
      ]
    },
    {
      "cell_type": "markdown",
      "source": [
        "**3. Right-angled Triangle Pattern**"
      ],
      "metadata": {
        "id": "bPia65dCH6ld"
      }
    },
    {
      "cell_type": "code",
      "source": [
        "def right_triangle(rows):\n",
        "    for i in range(1, rows + 1):\n",
        "        print(\"*\" * i)\n",
        "\n",
        "right_triangle(5)"
      ],
      "metadata": {
        "colab": {
          "base_uri": "https://localhost:8080/"
        },
        "id": "SGA76_nlH1hM",
        "outputId": "60962779-6a61-443d-ffae-264077148043"
      },
      "execution_count": 3,
      "outputs": [
        {
          "output_type": "stream",
          "name": "stdout",
          "text": [
            "*\n",
            "**\n",
            "***\n",
            "****\n",
            "*****\n"
          ]
        }
      ]
    },
    {
      "cell_type": "markdown",
      "source": [
        "**4. Hourglass Pattern**"
      ],
      "metadata": {
        "id": "IskFTJY5ICGQ"
      }
    },
    {
      "cell_type": "code",
      "source": [
        "def hourglass(rows):\n",
        "    for i in range(rows, 0, -1):\n",
        "        print(\" \" * (rows - i) + \"*\" * (2 * i - 1))\n",
        "    for i in range(2, rows + 1):\n",
        "        print(\" \" * (rows - i) + \"*\" * (2 * i - 1))\n",
        "\n",
        "hourglass(5)"
      ],
      "metadata": {
        "colab": {
          "base_uri": "https://localhost:8080/"
        },
        "id": "MfBbuSzSIAax",
        "outputId": "6cf7daf5-d757-4f76-dd67-a31ab2ed607d"
      },
      "execution_count": 4,
      "outputs": [
        {
          "output_type": "stream",
          "name": "stdout",
          "text": [
            "*********\n",
            " *******\n",
            "  *****\n",
            "   ***\n",
            "    *\n",
            "   ***\n",
            "  *****\n",
            " *******\n",
            "*********\n"
          ]
        }
      ]
    },
    {
      "cell_type": "markdown",
      "source": [
        "**5. Hollow Pyramid Pattern**"
      ],
      "metadata": {
        "id": "8woUBOphIVcJ"
      }
    },
    {
      "cell_type": "code",
      "source": [
        "def hollow_pyramid(rows):\n",
        "    for i in range(1, rows + 1):\n",
        "        if i == 1 or i == rows:\n",
        "            print(\" \" * (rows - i) + \"*\" * (2 * i - 1))\n",
        "        else:\n",
        "            print(\" \" * (rows - i) + \"*\" + \" \" * (2 * i - 3) + \"*\")\n",
        "\n",
        "hollow_pyramid(5)"
      ],
      "metadata": {
        "colab": {
          "base_uri": "https://localhost:8080/"
        },
        "id": "qP5XEb5TIPT3",
        "outputId": "5ab80f9b-e536-433a-8e8f-dfc0ec8a7075"
      },
      "execution_count": 5,
      "outputs": [
        {
          "output_type": "stream",
          "name": "stdout",
          "text": [
            "    *\n",
            "   * *\n",
            "  *   *\n",
            " *     *\n",
            "*********\n"
          ]
        }
      ]
    },
    {
      "cell_type": "markdown",
      "source": [
        "**6. Pyramid with Numbers**"
      ],
      "metadata": {
        "id": "TsEMaOGuIiqm"
      }
    },
    {
      "cell_type": "code",
      "source": [
        "def number_pyramid(rows):\n",
        "    for i in range(1, rows + 1):\n",
        "        for j in range(1, i + 1):\n",
        "            print(j, end=\" \")\n",
        "        print()\n",
        "\n",
        "number_pyramid(5)"
      ],
      "metadata": {
        "colab": {
          "base_uri": "https://localhost:8080/"
        },
        "id": "u-wBcilzId1T",
        "outputId": "a3138c55-0ee5-47f2-9188-ce2935e58b0c"
      },
      "execution_count": 6,
      "outputs": [
        {
          "output_type": "stream",
          "name": "stdout",
          "text": [
            "1 \n",
            "1 2 \n",
            "1 2 3 \n",
            "1 2 3 4 \n",
            "1 2 3 4 5 \n"
          ]
        }
      ]
    },
    {
      "cell_type": "markdown",
      "source": [
        "**7. Butterfly Pattern**"
      ],
      "metadata": {
        "id": "gX-rYzslIpzo"
      }
    },
    {
      "cell_type": "code",
      "source": [
        "def butterfly(rows):\n",
        "    for i in range(1, rows + 1):\n",
        "        for j in range(1, i + 1):\n",
        "            print(\"*\", end=\" \")\n",
        "        for j in range(1, 2 * (rows - i) + 1):\n",
        "            print(\" \", end=\" \")\n",
        "        for j in range(1, i + 1):\n",
        "            print(\"*\", end=\" \")\n",
        "        print()\n",
        "\n",
        "butterfly(5)"
      ],
      "metadata": {
        "colab": {
          "base_uri": "https://localhost:8080/"
        },
        "id": "a3AVlBKoIn5_",
        "outputId": "77355570-022d-42a4-d594-5a28e319ae75"
      },
      "execution_count": 7,
      "outputs": [
        {
          "output_type": "stream",
          "name": "stdout",
          "text": [
            "*                 * \n",
            "* *             * * \n",
            "* * *         * * * \n",
            "* * * *     * * * * \n",
            "* * * * * * * * * * \n"
          ]
        }
      ]
    },
    {
      "cell_type": "markdown",
      "source": [
        "**8. Diamond Pattern**"
      ],
      "metadata": {
        "id": "pjco30tKI7T3"
      }
    },
    {
      "cell_type": "code",
      "source": [
        "def diamond(rows):\n",
        "    for i in range(1, rows + 1):\n",
        "        print(\" \" * (rows - i) + \"*\" * (2 * i - 1))\n",
        "\n",
        "    for i in range(rows - 1, 0, -1):\n",
        "        print(\" \" * (rows - i) + \"*\" * (2 * i - 1))\n",
        "\n",
        "diamond(5)"
      ],
      "metadata": {
        "colab": {
          "base_uri": "https://localhost:8080/"
        },
        "id": "122f9fWQI4BR",
        "outputId": "69a35839-126c-49e3-801d-2c96606206fa"
      },
      "execution_count": 8,
      "outputs": [
        {
          "output_type": "stream",
          "name": "stdout",
          "text": [
            "    *\n",
            "   ***\n",
            "  *****\n",
            " *******\n",
            "*********\n",
            " *******\n",
            "  *****\n",
            "   ***\n",
            "    *\n"
          ]
        }
      ]
    },
    {
      "cell_type": "markdown",
      "source": [
        "**9. Square Pattern**"
      ],
      "metadata": {
        "id": "lhn8TYlzJGkL"
      }
    },
    {
      "cell_type": "code",
      "source": [
        "def square_pattern(rows):\n",
        "    for i in range(rows):\n",
        "        print(\"*\" * rows)\n",
        "\n",
        "square_pattern(5)"
      ],
      "metadata": {
        "colab": {
          "base_uri": "https://localhost:8080/"
        },
        "id": "CUL-j9xZJE9E",
        "outputId": "18fd40a8-9605-494c-cd0a-786f1ce23017"
      },
      "execution_count": 9,
      "outputs": [
        {
          "output_type": "stream",
          "name": "stdout",
          "text": [
            "*****\n",
            "*****\n",
            "*****\n",
            "*****\n",
            "*****\n"
          ]
        }
      ]
    },
    {
      "cell_type": "markdown",
      "source": [
        "**10. Cross Pattern**"
      ],
      "metadata": {
        "id": "UtsqCtc2Jq3f"
      }
    },
    {
      "cell_type": "code",
      "source": [
        "def cross_pattern(size):\n",
        "    for i in range(size):\n",
        "        for j in range(size):\n",
        "            if i == size // 2 or j == size // 2:\n",
        "                print(\"*\", end=\" \")\n",
        "            else:\n",
        "                print(\" \", end=\" \")\n",
        "        print()\n",
        "\n",
        "cross_pattern(5)"
      ],
      "metadata": {
        "colab": {
          "base_uri": "https://localhost:8080/"
        },
        "id": "fdh3pP92JlwZ",
        "outputId": "f3245633-ca47-4a19-f151-06c55badb86c"
      },
      "execution_count": 10,
      "outputs": [
        {
          "output_type": "stream",
          "name": "stdout",
          "text": [
            "    *     \n",
            "    *     \n",
            "* * * * * \n",
            "    *     \n",
            "    *     \n"
          ]
        }
      ]
    },
    {
      "cell_type": "markdown",
      "source": [
        "**11. Zigzag Pattern**"
      ],
      "metadata": {
        "id": "6rd57_tjJ7a3"
      }
    },
    {
      "cell_type": "code",
      "source": [
        "def zigzag_pattern(rows):\n",
        "    for i in range(1, rows + 1):\n",
        "        print(\"*\" * i)\n",
        "    for i in range(rows - 1, 0, -1):\n",
        "        print(\"*\" * i)\n",
        "\n",
        "zigzag_pattern(5)"
      ],
      "metadata": {
        "colab": {
          "base_uri": "https://localhost:8080/"
        },
        "id": "bj6IQhNpJwyv",
        "outputId": "55cd00c8-f6f1-4ecf-d533-c600087aaf63"
      },
      "execution_count": 11,
      "outputs": [
        {
          "output_type": "stream",
          "name": "stdout",
          "text": [
            "*\n",
            "**\n",
            "***\n",
            "****\n",
            "*****\n",
            "****\n",
            "***\n",
            "**\n",
            "*\n"
          ]
        }
      ]
    },
    {
      "cell_type": "markdown",
      "source": [
        "**12. Hollow Inverted Pyramid**"
      ],
      "metadata": {
        "id": "FF8HxPQ4KCeA"
      }
    },
    {
      "cell_type": "code",
      "source": [
        "def hollow_inverted_pyramid(rows):\n",
        "    for i in range(rows, 0, -1):\n",
        "        if i == rows or i == 1:\n",
        "            print(\"*\" * (2 * i - 1))\n",
        "        else:\n",
        "            print(\"*\" + \" \" * (2 * i - 3) + \"*\")\n",
        "\n",
        "hollow_inverted_pyramid(5)"
      ],
      "metadata": {
        "colab": {
          "base_uri": "https://localhost:8080/"
        },
        "id": "E2q4620WKAXb",
        "outputId": "9c0e6981-3a0d-4762-b982-ab842baa9381"
      },
      "execution_count": 12,
      "outputs": [
        {
          "output_type": "stream",
          "name": "stdout",
          "text": [
            "*********\n",
            "*     *\n",
            "*   *\n",
            "* *\n",
            "*\n"
          ]
        }
      ]
    },
    {
      "cell_type": "markdown",
      "source": [
        "**13. Rhombus Pattern**"
      ],
      "metadata": {
        "id": "1y2UGA8wKQXW"
      }
    },
    {
      "cell_type": "code",
      "source": [
        "def rhombus(rows):\n",
        "    for i in range(rows):\n",
        "        print(\" \" * (rows - i - 1) + \"*\" * rows)\n",
        "\n",
        "rhombus(5)"
      ],
      "metadata": {
        "colab": {
          "base_uri": "https://localhost:8080/"
        },
        "id": "TPzWmYLVKL2x",
        "outputId": "c46edb5c-6bf4-4330-d428-44a3700fe263"
      },
      "execution_count": 13,
      "outputs": [
        {
          "output_type": "stream",
          "name": "stdout",
          "text": [
            "    *****\n",
            "   *****\n",
            "  *****\n",
            " *****\n",
            "*****\n"
          ]
        }
      ]
    },
    {
      "cell_type": "markdown",
      "source": [
        "**14. Spiral Pattern**"
      ],
      "metadata": {
        "id": "NSAsyaghKaGR"
      }
    },
    {
      "cell_type": "code",
      "source": [
        "def spiral_pattern(rows, cols):\n",
        "    for i in range(rows):\n",
        "        for j in range(cols):\n",
        "            print(\"*\", end=\" \")\n",
        "        print()\n",
        "\n",
        "spiral_pattern(5, 4)"
      ],
      "metadata": {
        "colab": {
          "base_uri": "https://localhost:8080/"
        },
        "id": "1FhjJi7PKUii",
        "outputId": "26176c8e-7de3-456b-a172-2d7e64a1e887"
      },
      "execution_count": 14,
      "outputs": [
        {
          "output_type": "stream",
          "name": "stdout",
          "text": [
            "* * * * \n",
            "* * * * \n",
            "* * * * \n",
            "* * * * \n",
            "* * * * \n"
          ]
        }
      ]
    },
    {
      "cell_type": "markdown",
      "source": [],
      "metadata": {
        "id": "SGXdhtYTKk5L"
      }
    },
    {
      "cell_type": "markdown",
      "source": [
        "**15. Diagonal Star Pattern**"
      ],
      "metadata": {
        "id": "BxOsRAfbKlDX"
      }
    },
    {
      "cell_type": "code",
      "source": [
        "def diagonal_star_pattern(rows):\n",
        "    for i in range(rows):\n",
        "        for j in range(rows):\n",
        "            if i == j:\n",
        "                print(\"*\", end=\" \")\n",
        "            else:\n",
        "                print(\" \", end=\" \")\n",
        "        print()\n",
        "\n",
        "diagonal_star_pattern(5)"
      ],
      "metadata": {
        "colab": {
          "base_uri": "https://localhost:8080/"
        },
        "id": "wr4roP-NKelk",
        "outputId": "36e966bb-8d90-4959-c5b8-31bbcd45ad39"
      },
      "execution_count": 15,
      "outputs": [
        {
          "output_type": "stream",
          "name": "stdout",
          "text": [
            "*         \n",
            "  *       \n",
            "    *     \n",
            "      *   \n",
            "        * \n"
          ]
        }
      ]
    },
    {
      "cell_type": "markdown",
      "source": [
        "**16. Pyramid with Spaces**"
      ],
      "metadata": {
        "id": "5NHtg7jhKxOs"
      }
    },
    {
      "cell_type": "code",
      "source": [
        "def pyramid_with_spaces(rows):\n",
        "    for i in range(1, rows + 1):\n",
        "        print(\" \" * (rows - i) + \"*\" * (2 * i - 1) + \" \" * (rows - i))\n",
        "\n",
        "pyramid_with_spaces(5)"
      ],
      "metadata": {
        "colab": {
          "base_uri": "https://localhost:8080/"
        },
        "id": "NlC06xmhKq13",
        "outputId": "48ebb175-367a-4de0-c617-38601bc978a6"
      },
      "execution_count": 16,
      "outputs": [
        {
          "output_type": "stream",
          "name": "stdout",
          "text": [
            "    *    \n",
            "   ***   \n",
            "  *****  \n",
            " ******* \n",
            "*********\n"
          ]
        }
      ]
    },
    {
      "cell_type": "markdown",
      "source": [
        "**17. Number Triangle**"
      ],
      "metadata": {
        "id": "qcXyNge6K9BM"
      }
    },
    {
      "cell_type": "code",
      "source": [
        "def number_triangle(rows):\n",
        "    for i in range(1, rows + 1):\n",
        "        for j in range(1, i + 1):\n",
        "            print(j, end=\" \")\n",
        "        print()\n",
        "\n",
        "number_triangle(5)"
      ],
      "metadata": {
        "colab": {
          "base_uri": "https://localhost:8080/"
        },
        "id": "LFu6jYHrK3o5",
        "outputId": "279546d4-7b18-4605-968a-69516bba00ea"
      },
      "execution_count": 17,
      "outputs": [
        {
          "output_type": "stream",
          "name": "stdout",
          "text": [
            "1 \n",
            "1 2 \n",
            "1 2 3 \n",
            "1 2 3 4 \n",
            "1 2 3 4 5 \n"
          ]
        }
      ]
    },
    {
      "cell_type": "markdown",
      "source": [
        "**18. Heart Pattern**"
      ],
      "metadata": {
        "id": "S0ApPxknLGXr"
      }
    },
    {
      "cell_type": "code",
      "source": [
        "def heart_pattern():\n",
        "    for i in range(6):\n",
        "        for j in range(7):\n",
        "            if (i == 0 and (j == 3 or j == 0 or j == 6)) or \\\n",
        "               (i == 1 and (j == 2 or j == 4)) or \\\n",
        "               (i == 2 and (j == 1 or j == 5)) or \\\n",
        "               (i == 3 and j == 3):\n",
        "                print(\"*\", end=\" \")\n",
        "            else:\n",
        "                print(\" \", end=\" \")\n",
        "        print()\n",
        "\n",
        "heart_pattern()"
      ],
      "metadata": {
        "colab": {
          "base_uri": "https://localhost:8080/"
        },
        "id": "fTluLilNLBDz",
        "outputId": "98e2f4c9-09da-4e0d-97df-dbcfc30c5c4b"
      },
      "execution_count": 18,
      "outputs": [
        {
          "output_type": "stream",
          "name": "stdout",
          "text": [
            "*     *     * \n",
            "    *   *     \n",
            "  *       *   \n",
            "      *       \n",
            "              \n",
            "              \n"
          ]
        }
      ]
    },
    {
      "cell_type": "markdown",
      "source": [
        "**19. Pyramid of Alphabets**"
      ],
      "metadata": {
        "id": "NjAmkCDFLNZj"
      }
    },
    {
      "cell_type": "code",
      "source": [
        "def alphabet_pyramid(rows):\n",
        "    start_char = ord('A')\n",
        "    for i in range(1, rows + 1):\n",
        "        for j in range(1, i + 1):\n",
        "            char = chr(start_char + j - 1)\n",
        "            print(char, end=\" \")\n",
        "        print()\n",
        "\n",
        "alphabet_pyramid(5)"
      ],
      "metadata": {
        "colab": {
          "base_uri": "https://localhost:8080/"
        },
        "id": "aJNcR33fLLny",
        "outputId": "f6cc2813-7055-4b27-a334-ec9131184592"
      },
      "execution_count": 19,
      "outputs": [
        {
          "output_type": "stream",
          "name": "stdout",
          "text": [
            "A \n",
            "A B \n",
            "A B C \n",
            "A B C D \n",
            "A B C D E \n"
          ]
        }
      ]
    },
    {
      "cell_type": "markdown",
      "source": [
        "**20. Arrow Pattern**"
      ],
      "metadata": {
        "id": "5kefvTMBLbg5"
      }
    },
    {
      "cell_type": "code",
      "source": [
        "def arrow_pattern(rows):\n",
        "    for i in range(rows):\n",
        "        for j in range(i + 1):\n",
        "            print(\"*\", end=\" \")\n",
        "        print()\n",
        "    for i in range(rows - 1, 0, -1):\n",
        "        for j in range(i):\n",
        "            print(\"*\", end=\" \")\n",
        "        print()\n",
        "\n",
        "arrow_pattern(5)"
      ],
      "metadata": {
        "colab": {
          "base_uri": "https://localhost:8080/"
        },
        "id": "i8QWUn1oLWch",
        "outputId": "f8834ce8-2777-4631-dd7f-98be836acaa8"
      },
      "execution_count": 20,
      "outputs": [
        {
          "output_type": "stream",
          "name": "stdout",
          "text": [
            "* \n",
            "* * \n",
            "* * * \n",
            "* * * * \n",
            "* * * * * \n",
            "* * * * \n",
            "* * * \n",
            "* * \n",
            "* \n"
          ]
        }
      ]
    },
    {
      "cell_type": "markdown",
      "source": [
        "**21. Christmas Tree**"
      ],
      "metadata": {
        "id": "6QtoJOZJLhue"
      }
    },
    {
      "cell_type": "code",
      "source": [
        "def christmas_tree(rows):\n",
        "    for i in range(1, rows + 1):\n",
        "        print(\" \" * (rows - i) + \"*\" * (2 * i - 1))\n",
        "    print(\" \" * (rows - 1) + \"*\")\n",
        "\n",
        "christmas_tree(5)"
      ],
      "metadata": {
        "colab": {
          "base_uri": "https://localhost:8080/"
        },
        "id": "zajJPD-VLfre",
        "outputId": "9344e174-bcf5-4c5c-b397-e6cadfd91493"
      },
      "execution_count": 21,
      "outputs": [
        {
          "output_type": "stream",
          "name": "stdout",
          "text": [
            "    *\n",
            "   ***\n",
            "  *****\n",
            " *******\n",
            "*********\n",
            "    *\n"
          ]
        }
      ]
    },
    {
      "cell_type": "markdown",
      "source": [
        "**22. Staircase Pattern**"
      ],
      "metadata": {
        "id": "X1RMazObLs_w"
      }
    },
    {
      "cell_type": "code",
      "source": [
        "def staircase_pattern(rows):\n",
        "    for i in range(rows):\n",
        "        for j in range(i + 1):\n",
        "            print(\"*\", end=\" \")\n",
        "        print()\n",
        "\n",
        "staircase_pattern(5)"
      ],
      "metadata": {
        "colab": {
          "base_uri": "https://localhost:8080/"
        },
        "id": "mU6EBBL_Lqsv",
        "outputId": "c96e7172-0d58-4340-e96c-17f34addf341"
      },
      "execution_count": 22,
      "outputs": [
        {
          "output_type": "stream",
          "name": "stdout",
          "text": [
            "* \n",
            "* * \n",
            "* * * \n",
            "* * * * \n",
            "* * * * * \n"
          ]
        }
      ]
    },
    {
      "cell_type": "markdown",
      "source": [
        "**23. Circular Pattern**"
      ],
      "metadata": {
        "id": "ipCWFmaSL-TB"
      }
    },
    {
      "cell_type": "code",
      "source": [
        "import math\n",
        "\n",
        "def circular_pattern(radius):\n",
        "    for i in range(-radius, radius + 1):\n",
        "        for j in range(-radius, radius + 1):\n",
        "            if math.sqrt(i**2 + j**2) <= radius:\n",
        "                print(\"*\", end=\" \")\n",
        "            else:\n",
        "                print(\" \", end=\" \")\n",
        "        print()\n",
        "\n",
        "circular_pattern(5)"
      ],
      "metadata": {
        "colab": {
          "base_uri": "https://localhost:8080/"
        },
        "id": "HHAwlwywL3Pe",
        "outputId": "63178c32-3df4-47b7-f35a-edffceae2328"
      },
      "execution_count": 23,
      "outputs": [
        {
          "output_type": "stream",
          "name": "stdout",
          "text": [
            "          *           \n",
            "    * * * * * * *     \n",
            "  * * * * * * * * *   \n",
            "  * * * * * * * * *   \n",
            "  * * * * * * * * *   \n",
            "* * * * * * * * * * * \n",
            "  * * * * * * * * *   \n",
            "  * * * * * * * * *   \n",
            "  * * * * * * * * *   \n",
            "    * * * * * * *     \n",
            "          *           \n"
          ]
        }
      ]
    },
    {
      "cell_type": "markdown",
      "source": [
        "**24. Diamond Pattern (with Numbers)**"
      ],
      "metadata": {
        "id": "4kfLLL1dMFg9"
      }
    },
    {
      "cell_type": "code",
      "source": [
        "def diamond_with_numbers(rows):\n",
        "    for i in range(1, rows + 1):\n",
        "        print(\" \" * (rows - i) + \"* \" * i)\n",
        "    for i in range(rows - 1, 0, -1):\n",
        "        print(\" \" * (rows - i) + \"* \" * i)\n",
        "\n",
        "diamond_with_numbers(5)"
      ],
      "metadata": {
        "colab": {
          "base_uri": "https://localhost:8080/"
        },
        "id": "CeJaNoQWMD1C",
        "outputId": "8f9a85ba-abe9-4418-91d1-93979897d194"
      },
      "execution_count": 24,
      "outputs": [
        {
          "output_type": "stream",
          "name": "stdout",
          "text": [
            "    * \n",
            "   * * \n",
            "  * * * \n",
            " * * * * \n",
            "* * * * * \n",
            " * * * * \n",
            "  * * * \n",
            "   * * \n",
            "    * \n"
          ]
        }
      ]
    },
    {
      "cell_type": "markdown",
      "source": [
        "**25. Sine Wave Pattern**"
      ],
      "metadata": {
        "id": "LrjhBJjFMYi7"
      }
    },
    {
      "cell_type": "code",
      "source": [
        "import math\n",
        "\n",
        "def sine_wave_pattern(rows, frequency=1, amplitude=1):\n",
        "    for i in range(rows):\n",
        "        spaces = int(amplitude * math.sin(frequency * i) + amplitude)\n",
        "        print(\" \" * spaces + \"*\")\n",
        "\n",
        "sine_wave_pattern(20, frequency=0.2, amplitude=10)"
      ],
      "metadata": {
        "colab": {
          "base_uri": "https://localhost:8080/"
        },
        "id": "WyFcndpbMP5R",
        "outputId": "b626c319-be94-4d09-e45b-61a20361bc50"
      },
      "execution_count": 25,
      "outputs": [
        {
          "output_type": "stream",
          "name": "stdout",
          "text": [
            "          *\n",
            "           *\n",
            "             *\n",
            "               *\n",
            "                 *\n",
            "                  *\n",
            "                   *\n",
            "                   *\n",
            "                   *\n",
            "                   *\n",
            "                   *\n",
            "                  *\n",
            "                *\n",
            "               *\n",
            "             *\n",
            "           *\n",
            "         *\n",
            "       *\n",
            "     *\n",
            "   *\n"
          ]
        }
      ]
    },
    {
      "cell_type": "code",
      "source": [],
      "metadata": {
        "id": "nbxr2oJuMg9H"
      },
      "execution_count": null,
      "outputs": []
    },
    {
      "cell_type": "code",
      "source": [],
      "metadata": {
        "id": "yWnK2tFPMoLB"
      },
      "execution_count": null,
      "outputs": []
    },
    {
      "cell_type": "code",
      "source": [],
      "metadata": {
        "id": "KX5_w-tbMoOn"
      },
      "execution_count": null,
      "outputs": []
    },
    {
      "cell_type": "code",
      "source": [],
      "metadata": {
        "id": "rnNFN2dPMody"
      },
      "execution_count": null,
      "outputs": []
    }
  ]
}