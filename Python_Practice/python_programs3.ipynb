{
  "nbformat": 4,
  "nbformat_minor": 0,
  "metadata": {
    "colab": {
      "provenance": []
    },
    "kernelspec": {
      "name": "python3",
      "display_name": "Python 3"
    },
    "language_info": {
      "name": "python"
    }
  },
  "cells": [
    {
      "cell_type": "markdown",
      "source": [
        "21. Write a program that will tell the number of dogs and chicken are there when the user will provide the value of total heads and legs.\n"
      ],
      "metadata": {
        "id": "bTuONGDXGCGf"
      }
    },
    {
      "cell_type": "code",
      "execution_count": 1,
      "metadata": {
        "id": "fuf3ojLjFx8G",
        "colab": {
          "base_uri": "https://localhost:8080/"
        },
        "outputId": "369872ef-781d-4aaa-cfed-9a3788e399f9"
      },
      "outputs": [
        {
          "output_type": "stream",
          "name": "stdout",
          "text": [
            "Enter the total number of Heads: 10\n",
            "Enter the total number of Legs: 20\n",
            "Number of Dogs:  0\n",
            "Number of Chickens:  10\n"
          ]
        }
      ],
      "source": [
        "def animal_counts(total_heads, total_legs):\n",
        "  for d in range(total_heads + 1):\n",
        "    c = total_heads - d\n",
        "    if 4 * d + 2 * c == total_legs:\n",
        "      return d, c\n",
        "  return None, None\n",
        "\n",
        "total_heads = int(input(\"Enter the total number of Heads: \"))\n",
        "total_legs = int(input(\"Enter the total number of Legs: \"))\n",
        "\n",
        "dogs, chickens = animal_counts(total_heads, total_legs)\n",
        "if dogs is not None and chickens is not None:\n",
        "  print(\"Number of Dogs: \", dogs)\n",
        "  print(\"Number of Chickens: \", chickens)\n",
        "else:\n",
        "  print(\"No valid solution found for the given inputs.\")"
      ]
    },
    {
      "cell_type": "markdown",
      "source": [
        "22. Write a program that will swap numbers"
      ],
      "metadata": {
        "id": "M-W2EYjfvfdN"
      }
    },
    {
      "cell_type": "code",
      "source": [
        "def swap_numbers(a, b):\n",
        "    print(\"Before swapping:\")\n",
        "    print(\"a =\", a)\n",
        "    print(\"b =\", b)\n",
        "\n",
        "    # Swapping\n",
        "    a, b = b, a\n",
        "\n",
        "    print(\"After swapping:\")\n",
        "    print(\"a =\", a)\n",
        "    print(\"b =\", b)\n",
        "\n",
        "num1 = float(input(\"Enter the first number: \"))\n",
        "num2 = float(input(\"Enter the second number: \"))\n",
        "\n",
        "swap_numbers(num1, num2)"
      ],
      "metadata": {
        "colab": {
          "base_uri": "https://localhost:8080/"
        },
        "id": "wzm9UurNve7l",
        "outputId": "0a5ed7f7-758d-421e-c3b7-d2fb1dbfb61d"
      },
      "execution_count": 2,
      "outputs": [
        {
          "output_type": "stream",
          "name": "stdout",
          "text": [
            "Enter the first number: 56\n",
            "Enter the second number: 45\n",
            "Before swapping:\n",
            "a = 56.0\n",
            "b = 45.0\n",
            "After swapping:\n",
            "a = 45.0\n",
            "b = 56.0\n"
          ]
        }
      ]
    },
    {
      "cell_type": "markdown",
      "source": [
        "23. Write a program to find the sum of first n numbers, where n will be provided by the user. Eg if the user provides n=10 the output should be 55."
      ],
      "metadata": {
        "id": "s2UcaXrYbeZP"
      }
    },
    {
      "cell_type": "code",
      "source": [
        "def sum_of_first_n_numbers(n):\n",
        "    return n * (n + 1) // 2\n",
        "\n",
        "n = int(input(\"Enter the value of n: \"))\n",
        "\n",
        "if n < 0:\n",
        "    print(\"Please enter a non-negative integer.\")\n",
        "else:\n",
        "    result = sum_of_first_n_numbers(n)\n",
        "    print(\"The sum of the first\", n, \"numbers is:\", result)\n"
      ],
      "metadata": {
        "colab": {
          "base_uri": "https://localhost:8080/"
        },
        "id": "4v0Kseqfbk5p",
        "outputId": "7419536c-2a77-4d97-aa18-a15b02b7c2ea"
      },
      "execution_count": 3,
      "outputs": [
        {
          "output_type": "stream",
          "name": "stdout",
          "text": [
            "Enter the value of n: 10\n",
            "The sum of the first 10 numbers is: 55\n"
          ]
        }
      ]
    },
    {
      "cell_type": "markdown",
      "source": [
        "24. Write a program that can multiply 2 numbers provided by the user without using the * operator"
      ],
      "metadata": {
        "id": "dUXbXwfvbmxo"
      }
    },
    {
      "cell_type": "code",
      "source": [
        "def multiply_without_operator(num1, num2):\n",
        "    result = 0\n",
        "    for _ in range(abs(num2)):\n",
        "        result += num1 if num2 > 0 else -num1\n",
        "    return result\n",
        "\n",
        "# Test the function\n",
        "num1 = int(input(\"Enter the first number: \"))\n",
        "num2 = int(input(\"Enter the second number: \"))\n",
        "\n",
        "product = multiply_without_operator(num1, num2)\n",
        "print(\"The product of\", num1, \"and\", num2, \"is:\", product)"
      ],
      "metadata": {
        "colab": {
          "base_uri": "https://localhost:8080/"
        },
        "id": "TQkbgdkBbou1",
        "outputId": "1e35c965-0b03-4406-9c73-4c617d62d558"
      },
      "execution_count": 4,
      "outputs": [
        {
          "output_type": "stream",
          "name": "stdout",
          "text": [
            "Enter the first number: 6\n",
            "Enter the second number: 9\n",
            "The product of 6 and 9 is: 54\n"
          ]
        }
      ]
    },
    {
      "cell_type": "markdown",
      "source": [
        "25. Write a program that can find the factorial of a given number provided by the user."
      ],
      "metadata": {
        "id": "MyMpcVKVbpIB"
      }
    },
    {
      "cell_type": "code",
      "source": [
        "def factorial(n):\n",
        "    if n == 0 or n == 1:\n",
        "        return 1\n",
        "    else:\n",
        "        return n * factorial(n - 1)\n",
        "\n",
        "# Test the function\n",
        "num = int(input(\"Enter a number to calculate its factorial: \"))\n",
        "\n",
        "if num < 0:\n",
        "    print(\"Factorial is not defined for negative numbers.\")\n",
        "else:\n",
        "    result = factorial(num)\n",
        "    print(\"The factorial of\", num, \"is:\", result)"
      ],
      "metadata": {
        "colab": {
          "base_uri": "https://localhost:8080/"
        },
        "id": "9Yqr21LKbv4L",
        "outputId": "3d5f6f65-61bc-4c6e-8584-6f3110197cc5"
      },
      "execution_count": 5,
      "outputs": [
        {
          "output_type": "stream",
          "name": "stdout",
          "text": [
            "Enter a number to calculate its factorial: 4\n",
            "The factorial of 4 is: 24\n"
          ]
        }
      ]
    },
    {
      "cell_type": "markdown",
      "source": [
        "26. Write a program to print the first 25 odd numbers"
      ],
      "metadata": {
        "id": "pr7QnfW0byVt"
      }
    },
    {
      "cell_type": "code",
      "source": [
        "def print_first_25_odd_numbers():\n",
        "    count = 0\n",
        "    number = 1\n",
        "    while count < 25:\n",
        "        print(number)\n",
        "        number += 2\n",
        "        count += 1\n",
        "\n",
        "print_first_25_odd_numbers()"
      ],
      "metadata": {
        "colab": {
          "base_uri": "https://localhost:8080/"
        },
        "id": "5JpxCI9dbzwM",
        "outputId": "46095522-ae5b-4948-cadc-64d754ecbefe"
      },
      "execution_count": 6,
      "outputs": [
        {
          "output_type": "stream",
          "name": "stdout",
          "text": [
            "1\n",
            "3\n",
            "5\n",
            "7\n",
            "9\n",
            "11\n",
            "13\n",
            "15\n",
            "17\n",
            "19\n",
            "21\n",
            "23\n",
            "25\n",
            "27\n",
            "29\n",
            "31\n",
            "33\n",
            "35\n",
            "37\n",
            "39\n",
            "41\n",
            "43\n",
            "45\n",
            "47\n",
            "49\n"
          ]
        }
      ]
    },
    {
      "cell_type": "markdown",
      "source": [
        "27. Write a program to print whether a given number is prime number or not"
      ],
      "metadata": {
        "id": "FOy0Kwq0b0I4"
      }
    },
    {
      "cell_type": "code",
      "source": [
        "def is_prime(number):\n",
        "    if number <= 1:\n",
        "        return False\n",
        "    for i in range(2, int(number**0.5) + 1):\n",
        "        if number % i == 0:\n",
        "            return False\n",
        "    return True\n",
        "\n",
        "# Test the function\n",
        "num = int(input(\"Enter a number to check if it's prime: \"))\n",
        "\n",
        "if is_prime(num):\n",
        "    print(num, \"is a prime number.\")\n",
        "else:\n",
        "    print(num, \"is not a prime number.\")"
      ],
      "metadata": {
        "colab": {
          "base_uri": "https://localhost:8080/"
        },
        "id": "VCZ_U11sb1jK",
        "outputId": "2952530a-8edc-4988-d25c-c3cf1196559c"
      },
      "execution_count": 7,
      "outputs": [
        {
          "output_type": "stream",
          "name": "stdout",
          "text": [
            "Enter a number to check if it's prime: 22\n",
            "22 is not a prime number.\n"
          ]
        }
      ]
    },
    {
      "cell_type": "markdown",
      "source": [
        "28. Print all the armstrong numbers in the range of 100 to 1000"
      ],
      "metadata": {
        "id": "W9OnXmoAb2fc"
      }
    },
    {
      "cell_type": "code",
      "source": [
        "def is_armstrong_number(num):\n",
        "    #calculate the number of digits\n",
        "    num_digits = len(str(num))\n",
        "    #calculate the sum of the digits raised to the power of the number of digits\n",
        "    sum_of_powers = sum(int(digit)**num_digits for digit in str(num))\n",
        "    #check if the number is equal to the sum of powers\n",
        "    return num == sum_of_powers\n",
        "\n",
        "#find Armstrong numbers in the range of 100 to 1000\n",
        "armstrong_numbers = [num for num in range(100, 1000) if is_armstrong_number(num)]\n",
        "\n",
        "#print the Armstrong numbers\n",
        "print(\"Armstrong numbers in the range of 100 to 1000:\")\n",
        "for armstrong_number in armstrong_numbers:\n",
        "    print(armstrong_number)"
      ],
      "metadata": {
        "colab": {
          "base_uri": "https://localhost:8080/"
        },
        "id": "rrw8mo68b3ph",
        "outputId": "1e1c8cf4-a5e4-48db-9df8-0e341d2731cb"
      },
      "execution_count": 8,
      "outputs": [
        {
          "output_type": "stream",
          "name": "stdout",
          "text": [
            "Armstrong numbers in the range of 100 to 1000:\n",
            "153\n",
            "370\n",
            "371\n",
            "407\n"
          ]
        }
      ]
    },
    {
      "cell_type": "markdown",
      "source": [
        "29. The current population of a town is 10000. The population of the town is increasing at the rate of 10% per year. You have to write a program to find out the population at the end of each of the last 10 years. For eg current population is 10000 so the output should be like this:\n",
        "10th year - 10000\n",
        "9th year - 9000\n",
        "8th year - 8100 and so on"
      ],
      "metadata": {
        "id": "ouWzhfQBb39L"
      }
    },
    {
      "cell_type": "code",
      "source": [
        "def calculate_population(current_population, rate_of_increase, years):\n",
        "    population = current_population\n",
        "    for year in range(years, 0, -1):\n",
        "        print(f\"{year}th year - {population}\")\n",
        "        population -= population * rate_of_increase\n",
        "\n",
        "current_population = 10000\n",
        "rate_of_increase = 0.10  # 10% increase per year\n",
        "years = 10\n",
        "\n",
        "print(\"Population at the end of each of the last 10 years:\")\n",
        "calculate_population(current_population, rate_of_increase, years)"
      ],
      "metadata": {
        "colab": {
          "base_uri": "https://localhost:8080/"
        },
        "id": "bb4-Pn-Zb423",
        "outputId": "7e85dbbb-c3d6-43ae-d4cb-3e9e75a4f31b"
      },
      "execution_count": 9,
      "outputs": [
        {
          "output_type": "stream",
          "name": "stdout",
          "text": [
            "Population at the end of each of the last 10 years:\n",
            "10th year - 10000\n",
            "9th year - 9000.0\n",
            "8th year - 8100.0\n",
            "7th year - 7290.0\n",
            "6th year - 6561.0\n",
            "5th year - 5904.9\n",
            "4th year - 5314.41\n",
            "3th year - 4782.969\n",
            "2th year - 4304.6721\n",
            "1th year - 3874.20489\n"
          ]
        }
      ]
    },
    {
      "cell_type": "markdown",
      "source": [
        "30. Write a program to print all the unique combinations of 1,2,3 and 4"
      ],
      "metadata": {
        "id": "2Wi555NRb5ii"
      }
    },
    {
      "cell_type": "code",
      "source": [
        "from itertools import combinations\n",
        "\n",
        "elements = [1, 2, 3, 4]\n",
        "\n",
        "all_combinations = []\n",
        "for r in range(1, len(elements) + 1):\n",
        "    all_combinations.extend(combinations(elements, r))\n",
        "\n",
        "print(\"Unique combinations:\")\n",
        "for combination in all_combinations:\n",
        "    print(combination)"
      ],
      "metadata": {
        "colab": {
          "base_uri": "https://localhost:8080/"
        },
        "id": "DBHK3u2ob6ab",
        "outputId": "faf9b8d7-c4ca-40ba-d718-31888033006d"
      },
      "execution_count": 10,
      "outputs": [
        {
          "output_type": "stream",
          "name": "stdout",
          "text": [
            "Unique combinations:\n",
            "(1,)\n",
            "(2,)\n",
            "(3,)\n",
            "(4,)\n",
            "(1, 2)\n",
            "(1, 3)\n",
            "(1, 4)\n",
            "(2, 3)\n",
            "(2, 4)\n",
            "(3, 4)\n",
            "(1, 2, 3)\n",
            "(1, 2, 4)\n",
            "(1, 3, 4)\n",
            "(2, 3, 4)\n",
            "(1, 2, 3, 4)\n"
          ]
        }
      ]
    }
  ]
}