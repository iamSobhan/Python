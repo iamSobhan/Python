{
  "nbformat": 4,
  "nbformat_minor": 0,
  "metadata": {
    "colab": {
      "provenance": []
    },
    "kernelspec": {
      "name": "python3",
      "display_name": "Python 3"
    },
    "language_info": {
      "name": "python"
    }
  },
  "cells": [
    {
      "cell_type": "markdown",
      "source": [
        "11. Write a program to find the simple interest when the value of principle,rate of interest and time period is given."
      ],
      "metadata": {
        "id": "Y7w8hGllY0z9"
      }
    },
    {
      "cell_type": "code",
      "execution_count": 1,
      "metadata": {
        "colab": {
          "base_uri": "https://localhost:8080/"
        },
        "id": "y2bfE1qNYpz4",
        "outputId": "6c04d58e-fe8f-4cfa-e69e-e7bcdaae3014"
      },
      "outputs": [
        {
          "output_type": "stream",
          "name": "stdout",
          "text": [
            "Enter the principle amount: 50000\n",
            "Enter the rate of interest(in parcentage): 6\n",
            "Enter the time period(in years): 2\n",
            "Simple interest is: 6000.00\n"
          ]
        }
      ],
      "source": [
        "principle = float(input(\"Enter the principle amount: \"))\n",
        "rate_of_interest = float(input(\"Enter the rate of interest(in parcentage): \"))\n",
        "time_period = float(input(\"Enter the time period(in years): \"))\n",
        "\n",
        "simple_interest = (principle * rate_of_interest * time_period) / 100\n",
        "\n",
        "print(f\"Simple interest is: {simple_interest:.2f}\")"
      ]
    },
    {
      "cell_type": "markdown",
      "source": [
        "12.Write a program to find the volume of the cylinder. Also find the cost when ,when the cost of 1litre milk is 40Rs."
      ],
      "metadata": {
        "id": "jNEQ2D-_ZUh3"
      }
    },
    {
      "cell_type": "code",
      "source": [
        "import math\n",
        "radius = float(input(\"Enter the radius of the Cylinder: \"))\n",
        "height = float(input(\"Enter the height of the Cylinder: \"))\n",
        "\n",
        "#calculate the volume of the cylinder\n",
        "volume = math.pi * (radius**2) * height\n",
        "\n",
        "#calculate the cost of filling the cylinder with milk\n",
        "cost_per_liter = 40  # Cost per liter in Rs.\n",
        "cost = volume * cost_per_liter\n",
        "\n",
        "print(f\"The volume of the cylinder is: {volume:.2f} cubic meters\")\n",
        "print(f\"The cost of filling the cylinder with milk is: Rs. {cost:.2f}\")"
      ],
      "metadata": {
        "colab": {
          "base_uri": "https://localhost:8080/"
        },
        "id": "cQbjzSHsZZ1A",
        "outputId": "fae2a249-ea02-41c1-a330-96798864a470"
      },
      "execution_count": 2,
      "outputs": [
        {
          "output_type": "stream",
          "name": "stdout",
          "text": [
            "Enter the radius of the Cylinder: 12\n",
            "Enter the height of the Cylinder: 4\n",
            "The volume of the cylinder is: 1809.56 cubic meters\n",
            "The cost of filling the cylinder with milk is: Rs. 72382.29\n"
          ]
        }
      ]
    },
    {
      "cell_type": "markdown",
      "source": [
        "13.Write a program that will tell whether the given number is divisible by 3 & 6."
      ],
      "metadata": {
        "id": "YlnyTopzZxOw"
      }
    },
    {
      "cell_type": "code",
      "source": [
        "# Input a number from the user\n",
        "number = int(input(\"Enter a number: \"))\n",
        "\n",
        "# Check if the number is divisible by 3 and 6\n",
        "if number % 3 == 0 and number % 6 == 0:\n",
        "    print(f\"{number} is divisible by both 3 and 6.\")\n",
        "else:\n",
        "    print(f\"{number} is not divisible by both 3 and 6.\")\n"
      ],
      "metadata": {
        "colab": {
          "base_uri": "https://localhost:8080/"
        },
        "id": "qV5k8CojZfgr",
        "outputId": "ba4d3bef-dabb-45ab-cef4-10496400ad28"
      },
      "execution_count": 3,
      "outputs": [
        {
          "output_type": "stream",
          "name": "stdout",
          "text": [
            "Enter a number: 45\n",
            "45 is not divisible by both 3 and 6.\n"
          ]
        }
      ]
    },
    {
      "cell_type": "markdown",
      "source": [
        "14. https://practice.geeksforgeeks.org/problems/angle-between-hour-and-minute-hand0545/1?page=2&category[]=Mathematical&category[]=Numbers&category[]=number-theory&sortBy=submissions"
      ],
      "metadata": {
        "id": "LAkRhz01jOBK"
      }
    },
    {
      "cell_type": "code",
      "source": [
        "def getAngle(H, M):\n",
        "    # Validate the input\n",
        "    if H < 1 or H > 12 or M < 0 or M >= 60:\n",
        "        return -1  # Invalid input\n",
        "\n",
        "    # Calculate the angles\n",
        "    # Calculate the angle made by the hour hand with respect to 12:00\n",
        "    hour_angle = 0.5 * (60 * H + M)\n",
        "\n",
        "    # Calculate the angle made by the minute hand with respect to 12:00\n",
        "    minute_angle = 6 * M\n",
        "\n",
        "    # Calculate the absolute difference between the two angles\n",
        "    angle = abs(hour_angle - minute_angle)\n",
        "\n",
        "    # Find the minimum angle (360 - angle) if angle is greater than 180\n",
        "    if angle > 180:\n",
        "        angle = 360 - angle\n",
        "\n",
        "    # Return the floor of the angle\n",
        "    return int(angle)\n",
        "\n",
        "# Example usage:\n",
        "print(getAngle(9, 0))\n",
        "print(getAngle(3, 30))"
      ],
      "metadata": {
        "id": "pivrizu-jMFv",
        "colab": {
          "base_uri": "https://localhost:8080/"
        },
        "outputId": "49333ebc-0c20-4f07-d9a3-a1908a1204fb"
      },
      "execution_count": 4,
      "outputs": [
        {
          "output_type": "stream",
          "name": "stdout",
          "text": [
            "90\n",
            "75\n"
          ]
        }
      ]
    },
    {
      "cell_type": "markdown",
      "source": [
        "15. Write a program that will determine weather when the value of temperature and humidity is provided by the user.\n",
        "TEMPERATURE(C)      HUMIDITY(%)      WEATHER\n",
        "\n",
        "      >= 30                             >=90                Hot and Humid\n",
        "      >= 30                             < 90                 Hot\n",
        "      <30                                >= 90               Cool and Humid\n",
        "      <30                                 <90                 Cool\n"
      ],
      "metadata": {
        "id": "npi_JJovjo1L"
      }
    },
    {
      "cell_type": "code",
      "source": [
        "# Input temperature and humidity from the user\n",
        "temperature = float(input(\"Enter the temperature in Celsius: \"))\n",
        "humidity = float(input(\"Enter the humidity in percentage: \"))\n",
        "\n",
        "# Determine the weather\n",
        "if temperature >= 30 and humidity >= 90:\n",
        "    weather = \"Hot and Humid\"\n",
        "elif temperature >= 30 and humidity < 90:\n",
        "    weather = \"Hot\"\n",
        "elif temperature < 30 and humidity >= 90:\n",
        "    weather = \"Cool and Humid\"\n",
        "else:\n",
        "    weather = \"Cool\"\n",
        "\n",
        "# Display the result\n",
        "print(f\"Weather: {weather}\")"
      ],
      "metadata": {
        "colab": {
          "base_uri": "https://localhost:8080/"
        },
        "id": "4wEuhbjKj2Wr",
        "outputId": "9d449f74-4e02-4067-cd75-8af65dae9300"
      },
      "execution_count": 5,
      "outputs": [
        {
          "output_type": "stream",
          "name": "stdout",
          "text": [
            "Enter the temperature in Celsius: 90\n",
            "Enter the humidity in percentage: 12\n",
            "Weather: Hot\n"
          ]
        }
      ]
    },
    {
      "cell_type": "markdown",
      "source": [
        "16. Write a program that will take three digits from the user and add the square of each digit."
      ],
      "metadata": {
        "id": "WiFlQgM_kWbi"
      }
    },
    {
      "cell_type": "code",
      "source": [
        "# Input three digits from the user\n",
        "digit1 = int(input(\"Enter the first digit: \"))\n",
        "digit2 = int(input(\"Enter the second digit: \"))\n",
        "digit3 = int(input(\"Enter the third digit: \"))\n",
        "\n",
        "# Calculate the sum of the squares of the digits\n",
        "result = digit1**2 + digit2**2 + digit3**2\n",
        "\n",
        "# Display the result\n",
        "print(f\"The sum of the squares of {digit1}, {digit2}, and {digit3} is: {result}\")"
      ],
      "metadata": {
        "colab": {
          "base_uri": "https://localhost:8080/"
        },
        "id": "oQ13i30KkdF3",
        "outputId": "33015ca4-0089-49e3-a271-353557431b32"
      },
      "execution_count": 6,
      "outputs": [
        {
          "output_type": "stream",
          "name": "stdout",
          "text": [
            "Enter the first digit: 8\n",
            "Enter the second digit: 9\n",
            "Enter the third digit: 12\n",
            "The sum of the squares of 8, 9, and 12 is: 289\n"
          ]
        }
      ]
    },
    {
      "cell_type": "markdown",
      "source": [
        "17. Write a program that will check whether the number is armstrong number or not."
      ],
      "metadata": {
        "id": "yJdyvomLk0LU"
      }
    },
    {
      "cell_type": "code",
      "source": [
        "# Function to check if a number is an Armstrong number\n",
        "def is_armstrong(number):\n",
        "    # Convert the number to a string to find the number of digits\n",
        "    num_str = str(number)\n",
        "    num_digits = len(num_str)\n",
        "\n",
        "    # Calculate the sum of the digits raised to the power of the number of digits\n",
        "    armstrong_sum = sum(int(digit) ** num_digits for digit in num_str)\n",
        "\n",
        "    # Check if the sum is equal to the original number\n",
        "    return armstrong_sum == number\n",
        "\n",
        "# Input a number from the user\n",
        "num = int(input(\"Enter a number: \"))\n",
        "\n",
        "# Check if the number is an Armstrong number\n",
        "if is_armstrong(num):\n",
        "    print(f\"{num} is an Armstrong number.\")\n",
        "else:\n",
        "    print(f\"{num} is not an Armstrong number.\")"
      ],
      "metadata": {
        "colab": {
          "base_uri": "https://localhost:8080/"
        },
        "id": "YY_tuygFk3wd",
        "outputId": "e504d254-7dd6-4531-acbe-f196da24f670"
      },
      "execution_count": 7,
      "outputs": [
        {
          "output_type": "stream",
          "name": "stdout",
          "text": [
            "Enter a number: 135\n",
            "135 is not an Armstrong number.\n"
          ]
        }
      ]
    },
    {
      "cell_type": "markdown",
      "source": [
        "18. Write a program that will take user input of (4 digits number) and check whether the number is narcissist number or not."
      ],
      "metadata": {
        "id": "IKf3fEF-mtUH"
      }
    },
    {
      "cell_type": "code",
      "source": [
        "# Function to check if a number is a narcissistic number\n",
        "def is_narcissistic(number):\n",
        "    # Convert the number to a string to find the number of digits\n",
        "    num_str = str(number)\n",
        "    num_digits = len(num_str)\n",
        "\n",
        "    # Calculate the sum of the digits raised to the power of the number of digits\n",
        "    narcissistic_sum = sum(int(digit) ** num_digits for digit in num_str)\n",
        "\n",
        "    # Check if the sum is equal to the original number\n",
        "    return narcissistic_sum == number\n",
        "\n",
        "# Input a 4-digit number from the user\n",
        "num = int(input(\"Enter a 4-digit number: \"))\n",
        "\n",
        "# Check if the number is a narcissistic number\n",
        "if 1000 <= num <= 9999 and is_narcissistic(num):\n",
        "    print(f\"{num} is a narcissistic number.\")\n",
        "else:\n",
        "    print(f\"{num} is not a valid 4-digit number or not a narcissistic number.\")"
      ],
      "metadata": {
        "colab": {
          "base_uri": "https://localhost:8080/"
        },
        "id": "nOiXkw3nmy5k",
        "outputId": "e3a963d1-0fa3-4664-9b57-e9e15e7dbbde"
      },
      "execution_count": 8,
      "outputs": [
        {
          "output_type": "stream",
          "name": "stdout",
          "text": [
            "Enter a 4-digit number: 1634\n",
            "1634 is a narcissistic number.\n"
          ]
        }
      ]
    },
    {
      "cell_type": "markdown",
      "source": [
        "19. Write a program that will give you the in hand salary after deduction of HRA(10%),DA(5%),PF(3%), and tax(if salary is between 5-10 lakh–10%),(11-20lakh–20%),(20< _   – 30%)(0-1lakh print k)."
      ],
      "metadata": {
        "id": "1Ts7QCG1o_GD"
      }
    },
    {
      "cell_type": "code",
      "source": [
        "# Input the basic salary from the user\n",
        "basic_salary = float(input(\"Enter the basic salary: \"))\n",
        "\n",
        "# Constants for percentage deductions\n",
        "hra_percentage = 10\n",
        "da_percentage = 5\n",
        "pf_percentage = 3\n",
        "\n",
        "# Calculate HRA, DA, PF, and gross salary\n",
        "hra = (hra_percentage / 100) * basic_salary\n",
        "da = (da_percentage / 100) * basic_salary\n",
        "pf = (pf_percentage / 100) * basic_salary\n",
        "gross_salary = basic_salary + hra + da - pf\n",
        "\n",
        "# Calculate tax based on salary range\n",
        "if 0 <= gross_salary <= 100000:\n",
        "    tax_percentage = 0\n",
        "elif 100001 <= gross_salary <= 500000:\n",
        "    tax_percentage = 10\n",
        "elif 500001 <= gross_salary <= 1000000:\n",
        "    tax_percentage = 20\n",
        "else:\n",
        "    tax_percentage = 30\n",
        "\n",
        "# Calculate tax deduction\n",
        "tax_deduction = (tax_percentage / 100) * gross_salary\n",
        "\n",
        "# Calculate in-hand salary after deductions\n",
        "in_hand_salary = gross_salary - tax_deduction\n",
        "\n",
        "# Display the result\n",
        "print(f\"Basic Salary: {basic_salary:.2f}\")\n",
        "print(f\"HRA: {hra:.2f}\")\n",
        "print(f\"DA: {da:.2f}\")\n",
        "print(f\"PF: {pf:.2f}\")\n",
        "print(f\"Gross Salary: {gross_salary:.2f}\")\n",
        "print(f\"Tax Deduction: {tax_deduction:.2f}\")\n",
        "print(f\"In-hand Salary: {in_hand_salary:.2f}\")"
      ],
      "metadata": {
        "colab": {
          "base_uri": "https://localhost:8080/"
        },
        "id": "1dk6OwEmnJPB",
        "outputId": "d6d78839-3f47-4540-cb0a-eadd09094256"
      },
      "execution_count": 9,
      "outputs": [
        {
          "output_type": "stream",
          "name": "stdout",
          "text": [
            "Enter the basic salary: 40000\n",
            "Basic Salary: 40000.00\n",
            "HRA: 4000.00\n",
            "DA: 2000.00\n",
            "PF: 1200.00\n",
            "Gross Salary: 44800.00\n",
            "Tax Deduction: 0.00\n",
            "In-hand Salary: 44800.00\n"
          ]
        }
      ]
    },
    {
      "cell_type": "markdown",
      "source": [
        "20. Write a menu driven program - 1.cm to ft  2.kl to miles  3.usd to inr  4.exit"
      ],
      "metadata": {
        "id": "HnRVuLMDIZL0"
      }
    },
    {
      "cell_type": "code",
      "source": [
        "def cm_to_ft(cm):\n",
        "    return cm / 30.48\n",
        "\n",
        "def kl_to_miles(kl):\n",
        "    return kl * 0.621371\n",
        "\n",
        "def usd_to_inr(usd):\n",
        "    return usd * 74.5  # Assuming a conversion rate of 1 USD = 74.5 INR\n",
        "\n",
        "while True:\n",
        "    print(\"\\nMenu:\")\n",
        "    print(\"1. Convert cm to ft\")\n",
        "    print(\"2. Convert kl to miles\")\n",
        "    print(\"3. Convert USD to INR\")\n",
        "    print(\"4. Exit\")\n",
        "\n",
        "    choice = input(\"Enter your choice (1-4): \")\n",
        "\n",
        "    if choice == '1':\n",
        "        cm = float(input(\"Enter length in centimeters: \"))\n",
        "        ft = cm_to_ft(cm)\n",
        "        print(f\"{cm} centimeters is equal to {ft:.2f} feet.\")\n",
        "    elif choice == '2':\n",
        "        kl = float(input(\"Enter distance in kilometers: \"))\n",
        "        miles = kl_to_miles(kl)\n",
        "        print(f\"{kl} kilometers is equal to {miles:.2f} miles.\")\n",
        "    elif choice == '3':\n",
        "        usd = float(input(\"Enter amount in USD: \"))\n",
        "        inr = usd_to_inr(usd)\n",
        "        print(f\"{usd} USD is equal to {inr:.2f} INR.\")\n",
        "    elif choice == '4':\n",
        "        print(\"Exiting the program. Goodbye!\")\n",
        "        break\n",
        "    else:\n",
        "        print(\"Invalid choice. Please enter a number between 1 and 4.\")\n"
      ],
      "metadata": {
        "colab": {
          "base_uri": "https://localhost:8080/"
        },
        "id": "8PHCm3YCISjV",
        "outputId": "57dc6ba5-9683-4506-f562-26c8d9d62f9a"
      },
      "execution_count": 10,
      "outputs": [
        {
          "output_type": "stream",
          "name": "stdout",
          "text": [
            "\n",
            "Menu:\n",
            "1. Convert cm to ft\n",
            "2. Convert kl to miles\n",
            "3. Convert USD to INR\n",
            "4. Exit\n",
            "Enter your choice (1-4): 3\n",
            "Enter amount in USD: 10\n",
            "10.0 USD is equal to 745.00 INR.\n",
            "\n",
            "Menu:\n",
            "1. Convert cm to ft\n",
            "2. Convert kl to miles\n",
            "3. Convert USD to INR\n",
            "4. Exit\n",
            "Enter your choice (1-4): 1\n",
            "Enter length in centimeters: 20\n",
            "20.0 centimeters is equal to 0.66 feet.\n",
            "\n",
            "Menu:\n",
            "1. Convert cm to ft\n",
            "2. Convert kl to miles\n",
            "3. Convert USD to INR\n",
            "4. Exit\n",
            "Enter your choice (1-4): 2\n",
            "Enter distance in kilometers: 5\n",
            "5.0 kilometers is equal to 3.11 miles.\n",
            "\n",
            "Menu:\n",
            "1. Convert cm to ft\n",
            "2. Convert kl to miles\n",
            "3. Convert USD to INR\n",
            "4. Exit\n",
            "Enter your choice (1-4): 4\n",
            "Exiting the program. Goodbye!\n"
          ]
        }
      ]
    },
    {
      "cell_type": "code",
      "source": [],
      "metadata": {
        "id": "5YNBVhxoIfVU"
      },
      "execution_count": 10,
      "outputs": []
    },
    {
      "cell_type": "code",
      "source": [],
      "metadata": {
        "id": "_GMsm3nDIv77"
      },
      "execution_count": 10,
      "outputs": []
    }
  ]
}