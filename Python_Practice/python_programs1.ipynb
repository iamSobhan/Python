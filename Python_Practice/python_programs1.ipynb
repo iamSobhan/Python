{
  "nbformat": 4,
  "nbformat_minor": 0,
  "metadata": {
    "colab": {
      "provenance": [],
      "gpuType": "T4"
    },
    "kernelspec": {
      "name": "python3",
      "display_name": "Python 3"
    },
    "language_info": {
      "name": "python"
    },
    "accelerator": "GPU"
  },
  "cells": [
    {
      "cell_type": "markdown",
      "source": [
        "1. User will input (3ages).Find the oldest one"
      ],
      "metadata": {
        "id": "5TSi0lgbhZMG"
      }
    },
    {
      "cell_type": "code",
      "execution_count": null,
      "metadata": {
        "colab": {
          "base_uri": "https://localhost:8080/"
        },
        "id": "ajpH3dBXhE2g",
        "outputId": "52a2ad2b-ba8e-45ee-f97a-e452eec2b228"
      },
      "outputs": [
        {
          "output_type": "stream",
          "name": "stdout",
          "text": [
            "Enter your Age: 23\n",
            "Enter your Age: 45\n",
            "Enter your Age: 15\n",
            "The Oldest age is:  45\n"
          ]
        }
      ],
      "source": [
        "age1 = int(input(\"Enter your Age: \"))\n",
        "age2 = int(input(\"Enter your Age: \"))\n",
        "age3 = int(input(\"Enter your Age: \"))\n",
        "\n",
        "old_age = max(age1,age2,age3)\n",
        "print(\"The Oldest age is: \", old_age)\n"
      ]
    },
    {
      "cell_type": "markdown",
      "source": [
        "2. Write a program that will convert celsius value to fahrenheit in Python\n"
      ],
      "metadata": {
        "id": "AgF01vkutznK"
      }
    },
    {
      "cell_type": "code",
      "source": [
        "celsius = float(input(\"Enter a celsius temparature :\"))\n",
        "\n",
        "fahrenheit = (celsius * 9/5) + 32\n",
        "\n",
        "print(\"The fahrenheit temparature of the celsius value\", celsius, \"is\", fahrenheit, \"degree fahrenheit.\")\n"
      ],
      "metadata": {
        "colab": {
          "base_uri": "https://localhost:8080/"
        },
        "id": "kbzPuuq7kRp6",
        "outputId": "9f240fac-5dc0-429b-e382-a9010bd211a9"
      },
      "execution_count": null,
      "outputs": [
        {
          "output_type": "stream",
          "name": "stdout",
          "text": [
            "Enter a celsius temparature :12\n",
            "The fahrenheit temparature of the celsius value 12.0 is 53.6 degree fahrenheit.\n"
          ]
        }
      ]
    },
    {
      "cell_type": "markdown",
      "source": [
        "3. User will input (2numbers).Write a program to swap the numbers"
      ],
      "metadata": {
        "id": "qJOJAdETzPWH"
      }
    },
    {
      "cell_type": "code",
      "source": [
        "num1 = float(input(\"Enter the 1st Number: \"))\n",
        "num2 = float(input(\"Enter the 2nd Number: \"))\n",
        "\n",
        "swap = num1\n",
        "num1 = num2\n",
        "num2 = swap\n",
        "\n",
        "print(\"After swapping:\")\n",
        "print(\"First number:\", num1)\n",
        "print(\"Second number:\", num2)"
      ],
      "metadata": {
        "id": "wCJ7pevBzP0P",
        "colab": {
          "base_uri": "https://localhost:8080/"
        },
        "outputId": "98022abf-b104-4555-e331-c02564c8eac6"
      },
      "execution_count": null,
      "outputs": [
        {
          "output_type": "stream",
          "name": "stdout",
          "text": [
            "Enter the 1st Number: 67\n",
            "Enter the 2nd Number: 87\n",
            "After swapping:\n",
            "First number: 87.0\n",
            "Second number: 67.0\n"
          ]
        }
      ]
    },
    {
      "cell_type": "markdown",
      "source": [
        "4. Write a program that will give you the sum of 3 digits"
      ],
      "metadata": {
        "id": "zsWFTzi2zupl"
      }
    },
    {
      "cell_type": "code",
      "source": [
        "digit1 = int(input(\"Eenter the first digit: \"))\n",
        "digit2 = int(input(\"Eenter the second digit: \"))\n",
        "digit3 = int(input(\"Eenter the third digit: \"))\n",
        "\n",
        "sum = digit1 + digit2 + digit3\n",
        "\n",
        "print(f\"The sum of {digit1}, {digit2}, and {digit3} is: {sum}\")"
      ],
      "metadata": {
        "id": "PTkRDZelzP2u",
        "colab": {
          "base_uri": "https://localhost:8080/"
        },
        "outputId": "274d974c-5d0d-4e08-fec2-4222e506b011"
      },
      "execution_count": null,
      "outputs": [
        {
          "output_type": "stream",
          "name": "stdout",
          "text": [
            "Eenter the first digit: 15\n",
            "Eenter the second digit: 18\n",
            "Eenter the third digit: 20\n",
            "The sum of 15, 18, and 20 is: 53\n"
          ]
        }
      ]
    },
    {
      "cell_type": "markdown",
      "source": [
        "5. Write a program that will reverse a four digit number.Also it checks whether\n",
        " the reverse is true.\n"
      ],
      "metadata": {
        "id": "A1Fpu-dM1UkK"
      }
    },
    {
      "cell_type": "code",
      "source": [
        "number = int(input(\"Enter the four digit number: \"))\n",
        "\n",
        "if 1000 <= number <= 9999:\n",
        "\n",
        "  reverse_number = int(str(number)[::-1])\n",
        "\n",
        "  if number == reverse_number:\n",
        "    print(f\"The number {number} is a palindrome.\")\n",
        "  else:\n",
        "    print(f\"The reverse of {number} is {reverse_number}.\")\n",
        "else:\n",
        "  print(\"Please enter a valid four digit number.\")"
      ],
      "metadata": {
        "id": "K1UEJrxYzP6P",
        "colab": {
          "base_uri": "https://localhost:8080/"
        },
        "outputId": "023ea35b-3e32-4ce7-f90e-dceb270ad963"
      },
      "execution_count": null,
      "outputs": [
        {
          "output_type": "stream",
          "name": "stdout",
          "text": [
            "Enter the four digit number: 8932\n",
            "The reverse of 8932 is 2398.\n"
          ]
        }
      ]
    },
    {
      "cell_type": "markdown",
      "source": [
        "6. Write a program that will tell whether the number entered by the user is odd or even."
      ],
      "metadata": {
        "id": "k6vwVSGlWgIr"
      }
    },
    {
      "cell_type": "code",
      "source": [
        "number = int(input(\"Enter a Number: \"))\n",
        "\n",
        "if number % 2 == 0:\n",
        "  print(f\"The number is an even number.\")\n",
        "else:\n",
        "  print(f\"The number is an odd number.\")"
      ],
      "metadata": {
        "colab": {
          "base_uri": "https://localhost:8080/"
        },
        "id": "cow4npmJWmAL",
        "outputId": "12323178-3508-4557-907a-b3938adfa810"
      },
      "execution_count": null,
      "outputs": [
        {
          "output_type": "stream",
          "name": "stdout",
          "text": [
            "Enter a Number: 56\n",
            "The number is an even number.\n"
          ]
        }
      ]
    },
    {
      "cell_type": "markdown",
      "source": [
        "7.Write a program that will tell whether the given year is a leap year or not."
      ],
      "metadata": {
        "id": "lWvALtjDYpzt"
      }
    },
    {
      "cell_type": "code",
      "source": [
        "year = int(input(\"Enter a year: \"))\n",
        "\n",
        "if (year % 4 == 0 and year % 100 != 0) or (year % 400 == 0):\n",
        "    print(f\"{year} is a leap year.\")\n",
        "else:\n",
        "    print(f\"{year} is not a leap year.\")\n"
      ],
      "metadata": {
        "colab": {
          "base_uri": "https://localhost:8080/"
        },
        "id": "HvRgTm82WmCt",
        "outputId": "a9a9b09f-5a68-4ffe-fda3-d755d1b51db7"
      },
      "execution_count": null,
      "outputs": [
        {
          "output_type": "stream",
          "name": "stdout",
          "text": [
            "Enter a year: 2024\n",
            "2024 is a leap year.\n"
          ]
        }
      ]
    },
    {
      "cell_type": "markdown",
      "source": [
        "8.Write a program to find the euclidean distance between two coordinates."
      ],
      "metadata": {
        "id": "CwV5s4WCZTiA"
      }
    },
    {
      "cell_type": "code",
      "source": [
        "import math\n",
        "\n",
        "# Input the coordinates of the first point\n",
        "x1 = float(input(\"Enter the x-coordinate of the first point: \"))\n",
        "y1 = float(input(\"Enter the y-coordinate of the first point: \"))\n",
        "\n",
        "# Input the coordinates of the second point\n",
        "x2 = float(input(\"Enter the x-coordinate of the second point: \"))\n",
        "y2 = float(input(\"Enter the y-coordinate of the second point: \"))\n",
        "\n",
        "# Calculate the Euclidean distance\n",
        "distance = math.sqrt((x2 - x1)**2 + (y2 - y1)**2)\n",
        "\n",
        "# Display the result\n",
        "print(f\"The Euclidean distance between ({x1}, {y1}) and ({x2}, {y2}) is: {distance}\")\n"
      ],
      "metadata": {
        "colab": {
          "base_uri": "https://localhost:8080/"
        },
        "id": "GTwsLeEhWmFG",
        "outputId": "8c12e238-1855-4040-8ff0-f3386ab4d3e2"
      },
      "execution_count": null,
      "outputs": [
        {
          "output_type": "stream",
          "name": "stdout",
          "text": [
            "Enter the x-coordinate of the first point: 23\n",
            "Enter the y-coordinate of the first point: 12\n",
            "Enter the x-coordinate of the second point: 13\n",
            "Enter the y-coordinate of the second point: 15\n",
            "The Euclidean distance between (23.0, 12.0) and (13.0, 15.0) is: 10.44030650891055\n"
          ]
        }
      ]
    },
    {
      "cell_type": "markdown",
      "source": [
        "9. Write a program that take a user inputr of three angles and will find out whether it can form a triangle or not."
      ],
      "metadata": {
        "id": "vj25eByfLzYT"
      }
    },
    {
      "cell_type": "code",
      "source": [
        "angle1 = int(input(\"Enter the first angle: \"))\n",
        "angle2 = int(input(\"Enter the second angle: \"))\n",
        "angle3 = int(input(\"Enter the third angle: \"))\n",
        "\n",
        "\n",
        "if angle1 + angle2 + angle3 == 180:\n",
        "    print(\"The angles can form a triangle.\")\n",
        "else:\n",
        "    print(\"The angles cannot form a triangle.\")\n"
      ],
      "metadata": {
        "id": "2DNrTs-EWmHd",
        "colab": {
          "base_uri": "https://localhost:8080/"
        },
        "outputId": "b5e62a08-71d1-4188-b106-6cb1f1304632"
      },
      "execution_count": null,
      "outputs": [
        {
          "output_type": "stream",
          "name": "stdout",
          "text": [
            "Enter the first angle: 43\n",
            "Enter the second angle: 54\n",
            "Enter the third angle: 34\n",
            "The angles cannot form a triangle.\n"
          ]
        }
      ]
    },
    {
      "cell_type": "markdown",
      "source": [
        "10.Write a program that will take user input of cost price and selling price and determines whether its a loss or a profit"
      ],
      "metadata": {
        "id": "Iv6MJ8z9OaLv"
      }
    },
    {
      "cell_type": "code",
      "source": [
        "cost_price = float(input(\"Enter the cost price: \"))\n",
        "selling_price = float(input(\"Enter the selling price: \"))\n",
        "\n",
        "profit_loss = selling_price - cost_price\n",
        "\n",
        "if profit_loss > 0:\n",
        "    print(f\"You made a profit of {profit_loss:.2f}.\")\n",
        "elif profit_loss < 0:\n",
        "    print(f\"You incurred a loss of {abs(profit_loss):.2f}.\")\n",
        "else:\n",
        "    print(\"You broke even; there's neither a profit nor a loss.\")"
      ],
      "metadata": {
        "id": "AwZHbFtBWmKB",
        "colab": {
          "base_uri": "https://localhost:8080/"
        },
        "outputId": "8df7aee5-0b39-47e3-ec5c-8dce3791e979"
      },
      "execution_count": null,
      "outputs": [
        {
          "output_type": "stream",
          "name": "stdout",
          "text": [
            "Enter the cost price: 150\n",
            "Enter the selling price: 180\n",
            "You made a profit of 30.00.\n"
          ]
        }
      ]
    },
    {
      "cell_type": "code",
      "source": [],
      "metadata": {
        "id": "S2Qyx92aKg4h"
      },
      "execution_count": null,
      "outputs": []
    },
    {
      "cell_type": "code",
      "source": [],
      "metadata": {
        "id": "D3YWAEwpgh1j"
      },
      "execution_count": null,
      "outputs": []
    },
    {
      "cell_type": "code",
      "source": [
        "\n"
      ],
      "metadata": {
        "id": "RVH9Sv8qKKoz"
      },
      "execution_count": null,
      "outputs": []
    }
  ]
}