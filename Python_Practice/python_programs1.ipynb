{
  "nbformat": 4,
  "nbformat_minor": 0,
  "metadata": {
    "colab": {
      "provenance": [],
      "gpuType": "T4"
    },
    "kernelspec": {
      "name": "python3",
      "display_name": "Python 3"
    },
    "language_info": {
      "name": "python"
    },
    "accelerator": "GPU"
  },
  "cells": [
    {
      "cell_type": "markdown",
      "source": [
        "1. User will input (3ages).Find the oldest one"
      ],
      "metadata": {
        "id": "5TSi0lgbhZMG"
      }
    },
    {
      "cell_type": "code",
      "execution_count": 1,
      "metadata": {
        "colab": {
          "base_uri": "https://localhost:8080/"
        },
        "id": "ajpH3dBXhE2g",
        "outputId": "c8bb34fb-4106-4024-b132-bea5ecb49d3f"
      },
      "outputs": [
        {
          "output_type": "stream",
          "name": "stdout",
          "text": [
            "Enter your Age: 25\n",
            "Enter your Age: 34\n",
            "Enter your Age: 12\n",
            "The Oldest age is:  34\n"
          ]
        }
      ],
      "source": [
        "age1 = int(input(\"Enter your Age: \"))\n",
        "age2 = int(input(\"Enter your Age: \"))\n",
        "age3 = int(input(\"Enter your Age: \"))\n",
        "\n",
        "old_age = max(age1,age2,age3)\n",
        "print(\"The Oldest age is: \", old_age)\n"
      ]
    },
    {
      "cell_type": "markdown",
      "source": [
        "2. Write a program that will convert celsius value to fahrenheit in Python\n"
      ],
      "metadata": {
        "id": "AgF01vkutznK"
      }
    },
    {
      "cell_type": "code",
      "source": [
        "celsius = float(input(\"Enter a celsius temparature :\"))\n",
        "\n",
        "fahrenheit = (celsius * 9/5) + 32\n",
        "\n",
        "print(\"The fahrenheit temparature of the celsius value\", celsius, \"is\", fahrenheit, \"degree fahrenheit.\")\n"
      ],
      "metadata": {
        "colab": {
          "base_uri": "https://localhost:8080/"
        },
        "id": "kbzPuuq7kRp6",
        "outputId": "7a1b1689-0957-4f27-f4cf-a6fa072ab589"
      },
      "execution_count": 2,
      "outputs": [
        {
          "output_type": "stream",
          "name": "stdout",
          "text": [
            "Enter a celsius temparature :44\n",
            "The fahrenheit temparature of the celsius value 44.0 is 111.2 degree fahrenheit.\n"
          ]
        }
      ]
    },
    {
      "cell_type": "markdown",
      "source": [
        "3. User will input (2numbers).Write a program to swap the numbers"
      ],
      "metadata": {
        "id": "qJOJAdETzPWH"
      }
    },
    {
      "cell_type": "code",
      "source": [
        "num1 = float(input(\"Enter the 1st Number: \"))\n",
        "num2 = float(input(\"Enter the 2nd Number: \"))\n",
        "\n",
        "swap = num1\n",
        "num1 = num2\n",
        "num2 = swap\n",
        "\n",
        "print(\"After swapping:\")\n",
        "print(\"First number:\", num1)\n",
        "print(\"Second number:\", num2)"
      ],
      "metadata": {
        "id": "wCJ7pevBzP0P",
        "colab": {
          "base_uri": "https://localhost:8080/"
        },
        "outputId": "2e2fd897-a998-462f-ac80-0dd19eb24eb1"
      },
      "execution_count": 3,
      "outputs": [
        {
          "output_type": "stream",
          "name": "stdout",
          "text": [
            "Enter the 1st Number: 45\n",
            "Enter the 2nd Number: 21\n",
            "After swapping:\n",
            "First number: 21.0\n",
            "Second number: 45.0\n"
          ]
        }
      ]
    },
    {
      "cell_type": "markdown",
      "source": [
        "4. Write a program that will give you the sum of 3 digits"
      ],
      "metadata": {
        "id": "zsWFTzi2zupl"
      }
    },
    {
      "cell_type": "code",
      "source": [
        "digit1 = int(input(\"Eenter the first digit: \"))\n",
        "digit2 = int(input(\"Eenter the second digit: \"))\n",
        "digit3 = int(input(\"Eenter the third digit: \"))\n",
        "\n",
        "sum = digit1 + digit2 + digit3\n",
        "\n",
        "print(f\"The sum of {digit1}, {digit2}, and {digit3} is: {sum}\")"
      ],
      "metadata": {
        "id": "PTkRDZelzP2u",
        "colab": {
          "base_uri": "https://localhost:8080/"
        },
        "outputId": "e250d32b-b158-415d-ffd5-131d768761f3"
      },
      "execution_count": 4,
      "outputs": [
        {
          "output_type": "stream",
          "name": "stdout",
          "text": [
            "Eenter the first digit: 4\n",
            "Eenter the second digit: 6\n",
            "Eenter the third digit: 8\n",
            "The sum of 4, 6, and 8 is: 18\n"
          ]
        }
      ]
    },
    {
      "cell_type": "markdown",
      "source": [
        "5. Write a program that will reverse a four digit number.Also it checks whether\n",
        " the reverse is true.\n"
      ],
      "metadata": {
        "id": "A1Fpu-dM1UkK"
      }
    },
    {
      "cell_type": "code",
      "source": [
        "number = int(input(\"Enter the four digit number: \"))\n",
        "\n",
        "if 1000 <= number <= 9999:\n",
        "\n",
        "  reverse_number = int(str(number)[::-1])\n",
        "\n",
        "  if number == reverse_number:\n",
        "    print(f\"The number {number} is a palindrome.\")\n",
        "  else:\n",
        "    print(f\"The reverse of {number} is {reverse_number}.\")\n",
        "else:\n",
        "  print(\"Please enter a valid four digit number.\")"
      ],
      "metadata": {
        "id": "K1UEJrxYzP6P",
        "colab": {
          "base_uri": "https://localhost:8080/"
        },
        "outputId": "c2534e9c-1ee8-416d-ab80-ffc4158a64af"
      },
      "execution_count": 5,
      "outputs": [
        {
          "output_type": "stream",
          "name": "stdout",
          "text": [
            "Enter the four digit number: 1999\n",
            "The reverse of 1999 is 9991.\n"
          ]
        }
      ]
    },
    {
      "cell_type": "markdown",
      "source": [
        "6. Write a program that will tell whether the number entered by the user is odd or even."
      ],
      "metadata": {
        "id": "k6vwVSGlWgIr"
      }
    },
    {
      "cell_type": "code",
      "source": [
        "number = int(input(\"Enter a Number: \"))\n",
        "\n",
        "if number % 2 == 0:\n",
        "  print(f\"The number is an even number.\")\n",
        "else:\n",
        "  print(f\"The number is an odd number.\")"
      ],
      "metadata": {
        "colab": {
          "base_uri": "https://localhost:8080/"
        },
        "id": "cow4npmJWmAL",
        "outputId": "3d882237-38af-4f53-961f-2c45bdd3c1ae"
      },
      "execution_count": 6,
      "outputs": [
        {
          "output_type": "stream",
          "name": "stdout",
          "text": [
            "Enter a Number: 10\n",
            "The number is an even number.\n"
          ]
        }
      ]
    },
    {
      "cell_type": "markdown",
      "source": [
        "7.Write a program that will tell whether the given year is a leap year or not."
      ],
      "metadata": {
        "id": "lWvALtjDYpzt"
      }
    },
    {
      "cell_type": "code",
      "source": [
        "year = int(input(\"Enter a year: \"))\n",
        "\n",
        "if (year % 4 == 0 and year % 100 != 0) or (year % 400 == 0):\n",
        "    print(f\"{year} is a leap year.\")\n",
        "else:\n",
        "    print(f\"{year} is not a leap year.\")\n"
      ],
      "metadata": {
        "colab": {
          "base_uri": "https://localhost:8080/"
        },
        "id": "HvRgTm82WmCt",
        "outputId": "d876e7b8-5305-420f-ae83-98f34b122147"
      },
      "execution_count": 7,
      "outputs": [
        {
          "output_type": "stream",
          "name": "stdout",
          "text": [
            "Enter a year: 2024\n",
            "2024 is a leap year.\n"
          ]
        }
      ]
    },
    {
      "cell_type": "markdown",
      "source": [
        "8.Write a program to find the euclidean distance between two coordinates."
      ],
      "metadata": {
        "id": "CwV5s4WCZTiA"
      }
    },
    {
      "cell_type": "code",
      "source": [
        "import math\n",
        "\n",
        "# Input the coordinates of the first point\n",
        "x1 = float(input(\"Enter the x-coordinate of the first point: \"))\n",
        "y1 = float(input(\"Enter the y-coordinate of the first point: \"))\n",
        "\n",
        "# Input the coordinates of the second point\n",
        "x2 = float(input(\"Enter the x-coordinate of the second point: \"))\n",
        "y2 = float(input(\"Enter the y-coordinate of the second point: \"))\n",
        "\n",
        "# Calculate the Euclidean distance\n",
        "distance = math.sqrt((x2 - x1)**2 + (y2 - y1)**2)\n",
        "\n",
        "# Display the result\n",
        "print(f\"The Euclidean distance between ({x1}, {y1}) and ({x2}, {y2}) is: {distance}\")\n"
      ],
      "metadata": {
        "colab": {
          "base_uri": "https://localhost:8080/"
        },
        "id": "GTwsLeEhWmFG",
        "outputId": "37d16942-8729-4eab-d4cb-b8bd9acc891d"
      },
      "execution_count": 8,
      "outputs": [
        {
          "output_type": "stream",
          "name": "stdout",
          "text": [
            "Enter the x-coordinate of the first point: 25\n",
            "Enter the y-coordinate of the first point: 30\n",
            "Enter the x-coordinate of the second point: 15\n",
            "Enter the y-coordinate of the second point: 20\n",
            "The Euclidean distance between (25.0, 30.0) and (15.0, 20.0) is: 14.142135623730951\n"
          ]
        }
      ]
    },
    {
      "cell_type": "markdown",
      "source": [
        "9. Write a program that take a user inputr of three angles and will find out whether it can form a triangle or not."
      ],
      "metadata": {
        "id": "vj25eByfLzYT"
      }
    },
    {
      "cell_type": "code",
      "source": [
        "angle1 = int(input(\"Enter the first angle: \"))\n",
        "angle2 = int(input(\"Enter the second angle: \"))\n",
        "angle3 = int(input(\"Enter the third angle: \"))\n",
        "\n",
        "\n",
        "if angle1 + angle2 + angle3 == 180:\n",
        "    print(\"The angles can form a triangle.\")\n",
        "else:\n",
        "    print(\"The angles cannot form a triangle.\")\n"
      ],
      "metadata": {
        "id": "2DNrTs-EWmHd",
        "colab": {
          "base_uri": "https://localhost:8080/"
        },
        "outputId": "c7a6992f-968b-4cf9-c307-5b63b0e44e23"
      },
      "execution_count": 9,
      "outputs": [
        {
          "output_type": "stream",
          "name": "stdout",
          "text": [
            "Enter the first angle: 19\n",
            "Enter the second angle: 22\n",
            "Enter the third angle: 40\n",
            "The angles cannot form a triangle.\n"
          ]
        }
      ]
    },
    {
      "cell_type": "markdown",
      "source": [
        "10.Write a program that will take user input of cost price and selling price and determines whether its a loss or a profit"
      ],
      "metadata": {
        "id": "Iv6MJ8z9OaLv"
      }
    },
    {
      "cell_type": "code",
      "source": [
        "cost_price = float(input(\"Enter the cost price: \"))\n",
        "selling_price = float(input(\"Enter the selling price: \"))\n",
        "\n",
        "profit_loss = selling_price - cost_price\n",
        "\n",
        "if profit_loss > 0:\n",
        "    print(f\"You made a profit of {profit_loss:.2f}.\")\n",
        "elif profit_loss < 0:\n",
        "    print(f\"You incurred a loss of {abs(profit_loss):.2f}.\")\n",
        "else:\n",
        "    print(\"You broke even; there's neither a profit nor a loss.\")"
      ],
      "metadata": {
        "id": "AwZHbFtBWmKB",
        "colab": {
          "base_uri": "https://localhost:8080/"
        },
        "outputId": "8c9bef78-46c3-4b23-8f83-ef1bb67a855a"
      },
      "execution_count": 10,
      "outputs": [
        {
          "output_type": "stream",
          "name": "stdout",
          "text": [
            "Enter the cost price: 50\n",
            "Enter the selling price: 45\n",
            "You incurred a loss of 5.00.\n"
          ]
        }
      ]
    },
    {
      "cell_type": "code",
      "source": [],
      "metadata": {
        "id": "S2Qyx92aKg4h"
      },
      "execution_count": 10,
      "outputs": []
    },
    {
      "cell_type": "code",
      "source": [],
      "metadata": {
        "id": "D3YWAEwpgh1j"
      },
      "execution_count": 10,
      "outputs": []
    },
    {
      "cell_type": "code",
      "source": [
        "\n"
      ],
      "metadata": {
        "id": "RVH9Sv8qKKoz"
      },
      "execution_count": 10,
      "outputs": []
    }
  ]
}