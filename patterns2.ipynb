{
  "nbformat": 4,
  "nbformat_minor": 0,
  "metadata": {
    "colab": {
      "provenance": [],
      "gpuType": "T4"
    },
    "kernelspec": {
      "name": "python3",
      "display_name": "Python 3"
    },
    "language_info": {
      "name": "python"
    },
    "accelerator": "GPU"
  },
  "cells": [
    {
      "cell_type": "markdown",
      "source": [
        "**26. Arrowhead Pattern:**"
      ],
      "metadata": {
        "id": "2KQTnrM1Bm6H"
      }
    },
    {
      "cell_type": "code",
      "execution_count": 1,
      "metadata": {
        "colab": {
          "base_uri": "https://localhost:8080/"
        },
        "id": "RNW2ubKHSzEp",
        "outputId": "96bab8e5-9b1f-4657-fb42-64ecf789d24a"
      },
      "outputs": [
        {
          "output_type": "stream",
          "name": "stdout",
          "text": [
            "    * \n",
            "   * * \n",
            "  * * * \n",
            " * * * * \n",
            "* * * * * \n",
            " * * * * \n",
            "  * * * \n",
            "   * * \n",
            "    * \n"
          ]
        }
      ],
      "source": [
        "def arrowhead_pattern(rows):\n",
        "    for i in range(1, rows + 1):\n",
        "        print(\" \" * (rows - i) + \"* \" * i)\n",
        "    for i in range(rows - 1, 0, -1):\n",
        "        print(\" \" * (rows - i) + \"* \" * i)\n",
        "\n",
        "arrowhead_pattern(5)"
      ]
    },
    {
      "cell_type": "markdown",
      "source": [
        "**27. Hollow Triangle Pattern:**"
      ],
      "metadata": {
        "id": "auOVEpKMB0l_"
      }
    },
    {
      "cell_type": "code",
      "source": [
        "def hollow_triangle(rows):\n",
        "    for i in range(1, rows + 1):\n",
        "        if i == rows or i == 1:\n",
        "            print(\"* \" * i)\n",
        "        else:\n",
        "            print(\"*\" + \" \" * (2 * (i - 1) - 1) + \"*\")\n",
        "\n",
        "hollow_triangle(5)"
      ],
      "metadata": {
        "colab": {
          "base_uri": "https://localhost:8080/"
        },
        "id": "N0jgT3q-B70M",
        "outputId": "62c0d459-4f5e-4f14-809d-478048fc4d12"
      },
      "execution_count": 2,
      "outputs": [
        {
          "output_type": "stream",
          "name": "stdout",
          "text": [
            "* \n",
            "* *\n",
            "*   *\n",
            "*     *\n",
            "* * * * * \n"
          ]
        }
      ]
    },
    {
      "cell_type": "markdown",
      "source": [
        "**28. Swirl Pattern:**"
      ],
      "metadata": {
        "id": "zzsm_O_uCEkq"
      }
    },
    {
      "cell_type": "code",
      "source": [
        "def swirl_pattern(rows):\n",
        "    for i in range(rows):\n",
        "        print(\"* \" * (i + 1))\n",
        "    for i in range(rows - 1, 0, -1):\n",
        "        print(\"* \" * i)\n",
        "\n",
        "swirl_pattern(5)"
      ],
      "metadata": {
        "colab": {
          "base_uri": "https://localhost:8080/"
        },
        "id": "CngiwwALB_qq",
        "outputId": "6e536b46-5ed0-46a9-b248-2298c59bf0c4"
      },
      "execution_count": 3,
      "outputs": [
        {
          "output_type": "stream",
          "name": "stdout",
          "text": [
            "* \n",
            "* * \n",
            "* * * \n",
            "* * * * \n",
            "* * * * * \n",
            "* * * * \n",
            "* * * \n",
            "* * \n",
            "* \n"
          ]
        }
      ]
    },
    {
      "cell_type": "markdown",
      "source": [
        "**29. Tetris Block Pattern:**"
      ],
      "metadata": {
        "id": "oQOqb3IUCLTT"
      }
    },
    {
      "cell_type": "code",
      "source": [
        "def tetris_block_pattern(rows):\n",
        "    for i in range(rows):\n",
        "        print(\" \" * (rows - i - 1) + \"* \" * (i + 1))\n",
        "\n",
        "tetris_block_pattern(5)"
      ],
      "metadata": {
        "colab": {
          "base_uri": "https://localhost:8080/"
        },
        "id": "f_O_toQCCJ19",
        "outputId": "952018c5-2dbc-4617-f0db-c174ef06faac"
      },
      "execution_count": 4,
      "outputs": [
        {
          "output_type": "stream",
          "name": "stdout",
          "text": [
            "    * \n",
            "   * * \n",
            "  * * * \n",
            " * * * * \n",
            "* * * * * \n"
          ]
        }
      ]
    },
    {
      "cell_type": "markdown",
      "source": [
        "**30. Checkerboard Pattern:**"
      ],
      "metadata": {
        "id": "-jMe_EGcCV_R"
      }
    },
    {
      "cell_type": "code",
      "source": [
        "def checkerboard_pattern(rows, cols):\n",
        "    for i in range(rows):\n",
        "        for j in range(cols):\n",
        "            if (i + j) % 2 == 0:\n",
        "                print(\"*\", end=\" \")\n",
        "            else:\n",
        "                print(\" \", end=\" \")\n",
        "        print()\n",
        "\n",
        "checkerboard_pattern(5, 5)"
      ],
      "metadata": {
        "colab": {
          "base_uri": "https://localhost:8080/"
        },
        "id": "BcUQ3s5SCUas",
        "outputId": "44a489a6-7cd5-42aa-8e47-d90cdcc5dafd"
      },
      "execution_count": 5,
      "outputs": [
        {
          "output_type": "stream",
          "name": "stdout",
          "text": [
            "*   *   * \n",
            "  *   *   \n",
            "*   *   * \n",
            "  *   *   \n",
            "*   *   * \n"
          ]
        }
      ]
    },
    {
      "cell_type": "markdown",
      "source": [
        "**31. Zigzag Diagonal Pattern:**"
      ],
      "metadata": {
        "id": "d3Dsy8N_CqQw"
      }
    },
    {
      "cell_type": "code",
      "source": [
        "def zigzag_diagonal_pattern(rows):\n",
        "    for i in range(rows):\n",
        "        for j in range(rows):\n",
        "            if i == j or (i + j) == rows - 1:\n",
        "                print(\"*\", end=\" \")\n",
        "            else:\n",
        "                print(\" \", end=\" \")\n",
        "        print()\n",
        "\n",
        "zigzag_diagonal_pattern(5)"
      ],
      "metadata": {
        "colab": {
          "base_uri": "https://localhost:8080/"
        },
        "id": "Xuar4HJICn6A",
        "outputId": "803e2f29-5879-4f73-e89b-18666da97206"
      },
      "execution_count": 6,
      "outputs": [
        {
          "output_type": "stream",
          "name": "stdout",
          "text": [
            "*       * \n",
            "  *   *   \n",
            "    *     \n",
            "  *   *   \n",
            "*       * \n"
          ]
        }
      ]
    },
    {
      "cell_type": "markdown",
      "source": [
        "**32. Triangular Spiral Pattern:**"
      ],
      "metadata": {
        "id": "vLDEFyedC0FZ"
      }
    },
    {
      "cell_type": "code",
      "source": [
        "def triangular_spiral_pattern(rows):\n",
        "    for i in range(1, rows + 1):\n",
        "        print(\"* \" * i)\n",
        "    for i in range(rows - 1, 0, -1):\n",
        "        print(\"* \" * i)\n",
        "\n",
        "triangular_spiral_pattern(5)"
      ],
      "metadata": {
        "colab": {
          "base_uri": "https://localhost:8080/"
        },
        "id": "sNoGJrC3CyZM",
        "outputId": "1acc2392-433d-48a1-b6ed-263b61c39f22"
      },
      "execution_count": 7,
      "outputs": [
        {
          "output_type": "stream",
          "name": "stdout",
          "text": [
            "* \n",
            "* * \n",
            "* * * \n",
            "* * * * \n",
            "* * * * * \n",
            "* * * * \n",
            "* * * \n",
            "* * \n",
            "* \n"
          ]
        }
      ]
    },
    {
      "cell_type": "markdown",
      "source": [
        "**33. Crosshatch Pattern:**"
      ],
      "metadata": {
        "id": "FJk60ULsC9Jw"
      }
    },
    {
      "cell_type": "code",
      "source": [
        "def crosshatch_pattern(rows):\n",
        "    for i in range(rows):\n",
        "        print(\"# \" * rows)\n",
        "        print(\"* \" * rows)\n",
        "\n",
        "crosshatch_pattern(3)"
      ],
      "metadata": {
        "colab": {
          "base_uri": "https://localhost:8080/"
        },
        "id": "InTP2QIsC7y1",
        "outputId": "72f0601b-5a6e-4f5f-d003-dfc9399364cf"
      },
      "execution_count": 8,
      "outputs": [
        {
          "output_type": "stream",
          "name": "stdout",
          "text": [
            "# # # \n",
            "* * * \n",
            "# # # \n",
            "* * * \n",
            "# # # \n",
            "* * * \n"
          ]
        }
      ]
    },
    {
      "cell_type": "markdown",
      "source": [
        "**34. Diamond Inside a Diamond Pattern:**"
      ],
      "metadata": {
        "id": "8xhIFe8oDM1u"
      }
    },
    {
      "cell_type": "code",
      "source": [
        "def diamond_inside_diamond(rows):\n",
        "    for i in range(1, rows + 1):\n",
        "        print(\" \" * (rows - i) + \"* \" * i)\n",
        "    for i in range(rows - 1, 0, -1):\n",
        "        print(\" \" * (rows - i) + \"* \" * i)\n",
        "\n",
        "diamond_inside_diamond(5)"
      ],
      "metadata": {
        "colab": {
          "base_uri": "https://localhost:8080/"
        },
        "id": "vHwC2ue8DHr1",
        "outputId": "baaaebcd-84e3-47ef-fdc0-e295184c3cfb"
      },
      "execution_count": 9,
      "outputs": [
        {
          "output_type": "stream",
          "name": "stdout",
          "text": [
            "    * \n",
            "   * * \n",
            "  * * * \n",
            " * * * * \n",
            "* * * * * \n",
            " * * * * \n",
            "  * * * \n",
            "   * * \n",
            "    * \n"
          ]
        }
      ]
    },
    {
      "cell_type": "markdown",
      "source": [
        "**35. Hexagon Pattern:**"
      ],
      "metadata": {
        "id": "u1eBd_5KDWVN"
      }
    },
    {
      "cell_type": "code",
      "source": [
        "def hexagon_pattern(rows):\n",
        "    for i in range(1, rows + 1):\n",
        "        print(\" \" * (rows - i) + \"* \" * (2 * i - 1))\n",
        "    for i in range(rows - 1, 0, -1):\n",
        "        print(\" \" * (rows - i) + \"* \" * (2 * i - 1))\n",
        "\n",
        "hexagon_pattern(5)"
      ],
      "metadata": {
        "colab": {
          "base_uri": "https://localhost:8080/"
        },
        "id": "7q-DCxN_DR5w",
        "outputId": "53e557e9-6198-4af3-b03f-97498942d84b"
      },
      "execution_count": 10,
      "outputs": [
        {
          "output_type": "stream",
          "name": "stdout",
          "text": [
            "    * \n",
            "   * * * \n",
            "  * * * * * \n",
            " * * * * * * * \n",
            "* * * * * * * * * \n",
            " * * * * * * * \n",
            "  * * * * * \n",
            "   * * * \n",
            "    * \n"
          ]
        }
      ]
    },
    {
      "cell_type": "markdown",
      "source": [
        "**36. Starburst Pattern:**"
      ],
      "metadata": {
        "id": "htQkckMCDdQj"
      }
    },
    {
      "cell_type": "code",
      "source": [
        "def starburst_pattern(rows):\n",
        "    for i in range(rows):\n",
        "        print(\"* \" * rows)\n",
        "        print(\" \" * (rows // 2) + \"* \" * (rows // 2))\n",
        "\n",
        "starburst_pattern(6)"
      ],
      "metadata": {
        "colab": {
          "base_uri": "https://localhost:8080/"
        },
        "id": "D6avTjFGDbuo",
        "outputId": "24af37e3-a16a-4188-aa52-5ccf0d81109c"
      },
      "execution_count": 11,
      "outputs": [
        {
          "output_type": "stream",
          "name": "stdout",
          "text": [
            "* * * * * * \n",
            "   * * * \n",
            "* * * * * * \n",
            "   * * * \n",
            "* * * * * * \n",
            "   * * * \n",
            "* * * * * * \n",
            "   * * * \n",
            "* * * * * * \n",
            "   * * * \n",
            "* * * * * * \n",
            "   * * * \n"
          ]
        }
      ]
    },
    {
      "cell_type": "markdown",
      "source": [
        "**37. Yin and Yang Pattern:**"
      ],
      "metadata": {
        "id": "8PWjDCEvDqLZ"
      }
    },
    {
      "cell_type": "code",
      "source": [
        "def yin_and_yang_pattern(rows):\n",
        "    for i in range(rows):\n",
        "        for j in range(rows):\n",
        "            if (i - rows//2)**2 + (j - rows//2)**2 <= (rows//2)**2:\n",
        "                print(\"*\", end=\" \")\n",
        "            else:\n",
        "                print(\" \", end=\" \")\n",
        "        print()\n",
        "\n",
        "yin_and_yang_pattern(10)"
      ],
      "metadata": {
        "colab": {
          "base_uri": "https://localhost:8080/"
        },
        "id": "HHTRmr-yDko9",
        "outputId": "4c3a6d11-c4ea-4974-ff0c-ec6f4b8c2432"
      },
      "execution_count": 12,
      "outputs": [
        {
          "output_type": "stream",
          "name": "stdout",
          "text": [
            "          *         \n",
            "    * * * * * * *   \n",
            "  * * * * * * * * * \n",
            "  * * * * * * * * * \n",
            "  * * * * * * * * * \n",
            "* * * * * * * * * * \n",
            "  * * * * * * * * * \n",
            "  * * * * * * * * * \n",
            "  * * * * * * * * * \n",
            "    * * * * * * *   \n"
          ]
        }
      ]
    },
    {
      "cell_type": "markdown",
      "source": [
        "**38. Crescent Moon Pattern:**"
      ],
      "metadata": {
        "id": "rvgD-VVgDzgN"
      }
    },
    {
      "cell_type": "code",
      "source": [
        "def crescent_moon_pattern(rows):\n",
        "    for i in range(rows):\n",
        "        for j in range(rows):\n",
        "            if (i - rows//2)**2 + (j - rows//2)**2 >= (rows//2)**2 and \\\n",
        "               j <= rows // 2:\n",
        "                print(\"*\", end=\" \")\n",
        "            else:\n",
        "                print(\" \", end=\" \")\n",
        "        print()\n",
        "\n",
        "crescent_moon_pattern(10)"
      ],
      "metadata": {
        "colab": {
          "base_uri": "https://localhost:8080/"
        },
        "id": "EzhqRHCqDvuc",
        "outputId": "d8e7fb8c-6a42-4378-bbab-f1bff17feef9"
      },
      "execution_count": 13,
      "outputs": [
        {
          "output_type": "stream",
          "name": "stdout",
          "text": [
            "* * * * * *         \n",
            "* * *               \n",
            "* *                 \n",
            "*                   \n",
            "*                   \n",
            "*                   \n",
            "*                   \n",
            "*                   \n",
            "* *                 \n",
            "* * *               \n"
          ]
        }
      ]
    },
    {
      "cell_type": "markdown",
      "source": [
        "**39. Yin Yang Pattern:**"
      ],
      "metadata": {
        "id": "pfwYkgxiEF3x"
      }
    },
    {
      "cell_type": "code",
      "source": [
        "def yin_yang_pattern(rows):\n",
        "    for i in range(rows):\n",
        "        for j in range(rows):\n",
        "            if (i - rows//2)**2 + (j - rows//2)**2 <= (rows//2)**2:\n",
        "                print(\"*\", end=\" \")\n",
        "            else:\n",
        "                print(\" \", end=\" \")\n",
        "        print()\n",
        "\n",
        "    for i in range(rows):\n",
        "        for j in range(rows):\n",
        "            if (i - rows//2)**2 + (j - 3*rows//2)**2 <= (rows//2)**2:\n",
        "                print(\" \", end=\" \")\n",
        "            else:\n",
        "                print(\"*\", end=\" \")\n",
        "        print()\n",
        "\n",
        "yin_yang_pattern(10)"
      ],
      "metadata": {
        "colab": {
          "base_uri": "https://localhost:8080/"
        },
        "id": "psRMQpuYD_lA",
        "outputId": "4f199890-1959-4f48-c194-4d0037823a0b"
      },
      "execution_count": 14,
      "outputs": [
        {
          "output_type": "stream",
          "name": "stdout",
          "text": [
            "          *         \n",
            "    * * * * * * *   \n",
            "  * * * * * * * * * \n",
            "  * * * * * * * * * \n",
            "  * * * * * * * * * \n",
            "* * * * * * * * * * \n",
            "  * * * * * * * * * \n",
            "  * * * * * * * * * \n",
            "  * * * * * * * * * \n",
            "    * * * * * * *   \n",
            "* * * * * * * * * * \n",
            "* * * * * * * * * * \n",
            "* * * * * * * * * * \n",
            "* * * * * * * * * * \n",
            "* * * * * * * * * * \n",
            "* * * * * * * * * * \n",
            "* * * * * * * * * * \n",
            "* * * * * * * * * * \n",
            "* * * * * * * * * * \n",
            "* * * * * * * * * * \n"
          ]
        }
      ]
    },
    {
      "cell_type": "markdown",
      "source": [
        "**40. Spirograph Pattern:**"
      ],
      "metadata": {
        "id": "k1zlqzEuEOBa"
      }
    },
    {
      "cell_type": "code",
      "source": [
        "import math\n",
        "\n",
        "def spirograph_pattern(rows, petals=6):\n",
        "    for i in range(rows):\n",
        "        angle = i * 2 * math.pi / rows\n",
        "        x = int(rows // 2 + rows // 2 * math.sin(angle * petals))\n",
        "        y = int(rows // 2 + rows // 2 * math.cos(angle * petals))\n",
        "        print(\" \" * x + \"*\" + \" \" * (rows - x - 1))\n",
        "\n",
        "spirograph_pattern(20, petals=6)"
      ],
      "metadata": {
        "colab": {
          "base_uri": "https://localhost:8080/"
        },
        "id": "crUYhhwvELlP",
        "outputId": "7c942b53-b8fa-4be7-f97b-c73f23c373f6"
      },
      "execution_count": 15,
      "outputs": [
        {
          "output_type": "stream",
          "name": "stdout",
          "text": [
            "          *         \n",
            "                   *\n",
            "    *               \n",
            "    *               \n",
            "                   *\n",
            "          *         \n",
            "*                   \n",
            "               *    \n",
            "               *    \n",
            "*                   \n",
            "         *          \n",
            "                   *\n",
            "    *               \n",
            "    *               \n",
            "                   *\n",
            "          *         \n",
            "*                   \n",
            "               *    \n",
            "               *    \n",
            "*                   \n"
          ]
        }
      ]
    },
    {
      "cell_type": "markdown",
      "source": [
        "**41. Quadrilateral Pattern:**"
      ],
      "metadata": {
        "id": "5F_X4DGXEZ6L"
      }
    },
    {
      "cell_type": "code",
      "source": [
        "def quadrilateral_pattern(rows):\n",
        "    for i in range(rows):\n",
        "        print(\"* \" * rows)\n",
        "\n",
        "quadrilateral_pattern(5)"
      ],
      "metadata": {
        "colab": {
          "base_uri": "https://localhost:8080/"
        },
        "id": "NvYHxe3aEXSk",
        "outputId": "dfa1fd43-502c-490c-e2aa-92bc4970c79c"
      },
      "execution_count": 16,
      "outputs": [
        {
          "output_type": "stream",
          "name": "stdout",
          "text": [
            "* * * * * \n",
            "* * * * * \n",
            "* * * * * \n",
            "* * * * * \n",
            "* * * * * \n"
          ]
        }
      ]
    },
    {
      "cell_type": "markdown",
      "source": [
        "**42. Diamond with Dots Pattern:**"
      ],
      "metadata": {
        "id": "j8LuxmXqEizr"
      }
    },
    {
      "cell_type": "code",
      "source": [
        "def diamond_with_dots(rows):\n",
        "    for i in range(1, rows + 1):\n",
        "        print(\" \" * (rows - i) + \"* \" * i + \".\" * (rows - i))\n",
        "    for i in range(rows - 1, 0, -1):\n",
        "        print(\" \" * (rows - i) + \"* \" * i + \".\" * (rows - i))\n",
        "\n",
        "diamond_with_dots(5)"
      ],
      "metadata": {
        "colab": {
          "base_uri": "https://localhost:8080/"
        },
        "id": "-X-bk3fSEhHl",
        "outputId": "dc9685c1-32e3-4ca8-ef32-9e764608494e"
      },
      "execution_count": 17,
      "outputs": [
        {
          "output_type": "stream",
          "name": "stdout",
          "text": [
            "    * ....\n",
            "   * * ...\n",
            "  * * * ..\n",
            " * * * * .\n",
            "* * * * * \n",
            " * * * * .\n",
            "  * * * ..\n",
            "   * * ...\n",
            "    * ....\n"
          ]
        }
      ]
    },
    {
      "cell_type": "markdown",
      "source": [
        "**43. Fibonacci Spiral Pattern:**"
      ],
      "metadata": {
        "id": "2CmktcHCExFD"
      }
    },
    {
      "cell_type": "code",
      "source": [
        "def fibonacci_spiral(rows):\n",
        "    a, b = 0, 1\n",
        "    for i in range(rows):\n",
        "        for j in range(a, b):\n",
        "            print(\"*\", end=\" \")\n",
        "        print()\n",
        "        a, b = b, a + b\n",
        "\n",
        "fibonacci_spiral(8)"
      ],
      "metadata": {
        "colab": {
          "base_uri": "https://localhost:8080/"
        },
        "id": "zLwSpmGTEr-o",
        "outputId": "1c0406bc-c5a4-49f3-ae50-bf45a842454e"
      },
      "execution_count": 18,
      "outputs": [
        {
          "output_type": "stream",
          "name": "stdout",
          "text": [
            "* \n",
            "\n",
            "* \n",
            "* \n",
            "* * \n",
            "* * * \n",
            "* * * * * \n",
            "* * * * * * * * \n"
          ]
        }
      ]
    },
    {
      "cell_type": "markdown",
      "source": [
        "**44. Christmas Tree with Ornaments:**"
      ],
      "metadata": {
        "id": "xuG6v6myE5AX"
      }
    },
    {
      "cell_type": "code",
      "source": [
        "def christmas_tree_with_ornaments(rows):\n",
        "    for i in range(1, rows + 1):\n",
        "        print(\" \" * (rows - i) + \"* \" * i)\n",
        "    for i in range(rows - 2, 0, -1):\n",
        "        print(\" \" * (rows - i) + \"* \" * i)\n",
        "    print(\" \" * (rows - 1) + \"*\")\n",
        "\n",
        "christmas_tree_with_ornaments(5)"
      ],
      "metadata": {
        "colab": {
          "base_uri": "https://localhost:8080/"
        },
        "id": "E6tXbrmQE3kp",
        "outputId": "b8b26a1f-39fd-4d69-e79a-2fc44bb0b922"
      },
      "execution_count": 19,
      "outputs": [
        {
          "output_type": "stream",
          "name": "stdout",
          "text": [
            "    * \n",
            "   * * \n",
            "  * * * \n",
            " * * * * \n",
            "* * * * * \n",
            "  * * * \n",
            "   * * \n",
            "    * \n",
            "    *\n"
          ]
        }
      ]
    },
    {
      "cell_type": "markdown",
      "source": [
        "**45. Starry Night Pattern:**"
      ],
      "metadata": {
        "id": "CYQLt34EFBw6"
      }
    },
    {
      "cell_type": "code",
      "source": [
        "def starry_night(rows):\n",
        "    for i in range(rows):\n",
        "        for j in range(rows):\n",
        "            if i % 2 == 0 and j % 2 == 0:\n",
        "                print(\"*\", end=\" \")\n",
        "            elif i % 2 == 1 and j % 2 == 1:\n",
        "                print(\"*\", end=\" \")\n",
        "            else:\n",
        "                print(\" \", end=\" \")\n",
        "        print()\n",
        "\n",
        "starry_night(8)"
      ],
      "metadata": {
        "colab": {
          "base_uri": "https://localhost:8080/"
        },
        "id": "YD7WLYtHE_9-",
        "outputId": "531adae0-451d-4c4e-a3b4-7cc7dfdb5b61"
      },
      "execution_count": 20,
      "outputs": [
        {
          "output_type": "stream",
          "name": "stdout",
          "text": [
            "*   *   *   *   \n",
            "  *   *   *   * \n",
            "*   *   *   *   \n",
            "  *   *   *   * \n",
            "*   *   *   *   \n",
            "  *   *   *   * \n",
            "*   *   *   *   \n",
            "  *   *   *   * \n"
          ]
        }
      ]
    },
    {
      "cell_type": "markdown",
      "source": [
        "**46. Pac-Man Pattern:**"
      ],
      "metadata": {
        "id": "uS-UIaAlFMUb"
      }
    },
    {
      "cell_type": "code",
      "source": [
        "def pacman_pattern(rows):\n",
        "    for i in range(rows):\n",
        "        for j in range(rows):\n",
        "            if (i - rows//2)**2 + (j - rows//2)**2 <= (rows//2)**2:\n",
        "                print(\"*\", end=\" \")\n",
        "            else:\n",
        "                print(\" \", end=\" \")\n",
        "        print()\n",
        "\n",
        "pacman_pattern(10)"
      ],
      "metadata": {
        "colab": {
          "base_uri": "https://localhost:8080/"
        },
        "id": "CV_-TgpSFKDM",
        "outputId": "766e032d-441c-4be1-c9fe-48e7a0803d56"
      },
      "execution_count": 21,
      "outputs": [
        {
          "output_type": "stream",
          "name": "stdout",
          "text": [
            "          *         \n",
            "    * * * * * * *   \n",
            "  * * * * * * * * * \n",
            "  * * * * * * * * * \n",
            "  * * * * * * * * * \n",
            "* * * * * * * * * * \n",
            "  * * * * * * * * * \n",
            "  * * * * * * * * * \n",
            "  * * * * * * * * * \n",
            "    * * * * * * *   \n"
          ]
        }
      ]
    },
    {
      "cell_type": "markdown",
      "source": [
        "**47. Spiral Square Pattern:**"
      ],
      "metadata": {
        "id": "rYj55K7-FWx6"
      }
    },
    {
      "cell_type": "code",
      "source": [
        "def spiral_square_pattern(rows):\n",
        "    for i in range(rows):\n",
        "        for j in range(rows):\n",
        "            print(\"*\", end=\" \")\n",
        "        print()\n",
        "    for i in range(rows - 1, 0, -1):\n",
        "        for j in range(rows):\n",
        "            print(\"*\", end=\" \")\n",
        "        print()\n",
        "\n",
        "spiral_square_pattern(5)"
      ],
      "metadata": {
        "colab": {
          "base_uri": "https://localhost:8080/"
        },
        "id": "CYtDWdgRFVAL",
        "outputId": "ab121c2e-53e6-4571-ef74-f67e513f0a48"
      },
      "execution_count": 22,
      "outputs": [
        {
          "output_type": "stream",
          "name": "stdout",
          "text": [
            "* * * * * \n",
            "* * * * * \n",
            "* * * * * \n",
            "* * * * * \n",
            "* * * * * \n",
            "* * * * * \n",
            "* * * * * \n",
            "* * * * * \n",
            "* * * * * \n"
          ]
        }
      ]
    },
    {
      "cell_type": "markdown",
      "source": [
        "**48. Starry Cross Pattern:**"
      ],
      "metadata": {
        "id": "phUNvARrFi7r"
      }
    },
    {
      "cell_type": "code",
      "source": [
        "def starry_cross_pattern(rows):\n",
        "    for i in range(rows):\n",
        "        for j in range(rows):\n",
        "            if i == rows // 2 or j == rows // 2:\n",
        "                print(\"*\", end=\" \")\n",
        "            else:\n",
        "                print(\" \", end=\" \")\n",
        "        print()\n",
        "\n",
        "starry_cross_pattern(7)"
      ],
      "metadata": {
        "colab": {
          "base_uri": "https://localhost:8080/"
        },
        "id": "MKGDQeCJFeXi",
        "outputId": "5ec16b31-842a-4079-a924-54b16d466806"
      },
      "execution_count": 23,
      "outputs": [
        {
          "output_type": "stream",
          "name": "stdout",
          "text": [
            "      *       \n",
            "      *       \n",
            "      *       \n",
            "* * * * * * * \n",
            "      *       \n",
            "      *       \n",
            "      *       \n"
          ]
        }
      ]
    },
    {
      "cell_type": "markdown",
      "source": [
        "**49. Sunburst Pattern:**"
      ],
      "metadata": {
        "id": "-LiCBjBPFyK0"
      }
    },
    {
      "cell_type": "code",
      "source": [
        "def sunburst_pattern(rows):\n",
        "    for i in range(rows):\n",
        "        print(\" \" * (rows - i) + \"* \" * i)\n",
        "    for i in range(rows - 2, 0, -1):\n",
        "        print(\" \" * (rows - i) + \"* \" * i)\n",
        "\n",
        "sunburst_pattern(5)"
      ],
      "metadata": {
        "colab": {
          "base_uri": "https://localhost:8080/"
        },
        "id": "cg7w6pEGFqrP",
        "outputId": "fe541402-c34c-43a2-ead6-450e6d14d7da"
      },
      "execution_count": 24,
      "outputs": [
        {
          "output_type": "stream",
          "name": "stdout",
          "text": [
            "     \n",
            "    * \n",
            "   * * \n",
            "  * * * \n",
            " * * * * \n",
            "  * * * \n",
            "   * * \n",
            "    * \n"
          ]
        }
      ]
    },
    {
      "cell_type": "markdown",
      "source": [
        "**50. Parallelogram Pattern:**"
      ],
      "metadata": {
        "id": "sa9hyPR0F44e"
      }
    },
    {
      "cell_type": "code",
      "source": [
        "def parallelogram_pattern(rows):\n",
        "    for i in range(rows):\n",
        "        print(\" \" * i + \"* \" * rows)\n",
        "\n",
        "parallelogram_pattern(5)"
      ],
      "metadata": {
        "colab": {
          "base_uri": "https://localhost:8080/"
        },
        "id": "6neMDAr8F3Kl",
        "outputId": "d1d2f3ee-1b06-4c5f-8909-8ea2a66a839b"
      },
      "execution_count": 25,
      "outputs": [
        {
          "output_type": "stream",
          "name": "stdout",
          "text": [
            "* * * * * \n",
            " * * * * * \n",
            "  * * * * * \n",
            "   * * * * * \n",
            "    * * * * * \n"
          ]
        }
      ]
    },
    {
      "cell_type": "markdown",
      "source": [
        "**51. Hourglass Pattern:**"
      ],
      "metadata": {
        "id": "dBdVvqiIGE96"
      }
    },
    {
      "cell_type": "code",
      "source": [
        "def hourglass_pattern(rows):\n",
        "    for i in range(rows, 0, -1):\n",
        "        print(\" \" * (rows - i) + \"* \" * i)\n",
        "    for i in range(2, rows + 1):\n",
        "        print(\" \" * (rows - i) + \"* \" * i)\n",
        "\n",
        "hourglass_pattern(5)"
      ],
      "metadata": {
        "colab": {
          "base_uri": "https://localhost:8080/"
        },
        "id": "xpy6BsuxGDJw",
        "outputId": "a4cdc745-e106-4696-dd89-e07491a41296"
      },
      "execution_count": 26,
      "outputs": [
        {
          "output_type": "stream",
          "name": "stdout",
          "text": [
            "* * * * * \n",
            " * * * * \n",
            "  * * * \n",
            "   * * \n",
            "    * \n",
            "   * * \n",
            "  * * * \n",
            " * * * * \n",
            "* * * * * \n"
          ]
        }
      ]
    },
    {
      "cell_type": "code",
      "source": [],
      "metadata": {
        "id": "H3Lywt-rGMtO"
      },
      "execution_count": null,
      "outputs": []
    },
    {
      "cell_type": "code",
      "source": [],
      "metadata": {
        "id": "qwMeat0jG-93"
      },
      "execution_count": null,
      "outputs": []
    },
    {
      "cell_type": "code",
      "source": [],
      "metadata": {
        "id": "rzakqeTUG_Bb"
      },
      "execution_count": null,
      "outputs": []
    }
  ]
}